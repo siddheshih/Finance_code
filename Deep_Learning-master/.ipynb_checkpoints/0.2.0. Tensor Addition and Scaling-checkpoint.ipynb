{
 "cells": [
  {
   "cell_type": "markdown",
   "metadata": {},
   "source": [
    "<div class=\"alert alert-block alert-success\" style=\"margin-top: 20px\">\n",
    " <h1>Tensor Addition and Scaling</h1>\n",
    "</div>"
   ]
  },
  {
   "cell_type": "code",
   "execution_count": 1,
   "metadata": {},
   "outputs": [
    {
     "data": {
      "text/plain": [
       "<tensorflow.python.client.session.InteractiveSession at 0xc57e8b8d48>"
      ]
     },
     "execution_count": 1,
     "metadata": {},
     "output_type": "execute_result"
    }
   ],
   "source": [
    "# Created by: ADMINIXTRATOR             Date: 9th January, 2020\n",
    "# Twitter: Adminixtrator                Email: minixtrator@gmail.com\n",
    "# \n",
    "# Python version: 3.7.4 amd64 (64-bit)    TensorFlow: 2.0.0\n",
    "\n",
    "\n",
    "import tensorflow as tf\n",
    "\n",
    "tf2x = tf.compat.v1\n",
    "tf2x.InteractiveSession()"
   ]
  },
  {
   "cell_type": "code",
   "execution_count": 2,
   "metadata": {},
   "outputs": [
    {
     "name": "stdout",
     "output_type": "stream",
     "text": [
      "6\n"
     ]
    }
   ],
   "source": [
    "# Before proceeding, please note that a session can be created independently\n",
    "# The 'tf.Session()' attribute is used in 1x so we will be using 'tf2x' - as defined as 'tf.compat.v1'\n",
    "# By calling 'sess.run()', the operation within the condition is executed and the result is a 'numpy.ndarray' type\n",
    "\n",
    "\n",
    "#      TensorFlow 1x \n",
    " \n",
    "'''    \n",
    "    sess = tf.Session()\n",
    "    print(sess.run(tf.constant(2) + tf.constant(4)))\n",
    "    sess.close()\n",
    "    \n",
    "'''\n",
    "\n",
    "#    WHICH WILL NOT WORK IN 2x\n",
    "\n",
    "#     TensorFlow 2x\n",
    "\n",
    "with tf2x.Session() as sess:\n",
    "    print(sess.run(tf.constant(2) + tf.constant(4)))\n",
    "    \n",
    "# You cannot use the 'sess.run()' function and eval attribute together since they are of the same type\n",
    "# Recall that we made mention of 'tf.eval()' function being equal to 'np.ndarray()'\n",
    "# The session is closed to release resources"
   ]
  },
  {
   "cell_type": "code",
   "execution_count": 3,
   "metadata": {
    "scrolled": true
   },
   "outputs": [
    {
     "name": "stdout",
     "output_type": "stream",
     "text": [
      "[[ 1.2290331   0.6000768  -1.6063516   0.23800126 -0.86585313 -0.32328165\n",
      "   1.9227363  -1.2589315   1.8232105  -0.83803105 -1.139665    0.30137724\n",
      "   0.25665507  0.16581121  0.08410662 -0.5340573   0.21902925  0.7772979\n",
      "   1.2929434  -0.27670854]\n",
      " [-1.9235791  -0.58315253 -0.7484955  -0.65887785  0.445492    0.11494992\n",
      "  -0.53186125  1.1895256  -0.9871816   0.09555929  0.6733341  -1.2495209\n",
      "   0.6130384  -1.547236   -0.60519874 -1.1646103  -1.4528893  -0.0757838\n",
      "   0.14052251  0.38639376]\n",
      " [-1.2088073   0.93975157  0.09893155 -0.19890703  0.8760863   0.37929127\n",
      "  -0.9933928   1.3834088  -0.15826942  1.0193641  -1.0613683  -1.1000684\n",
      "  -0.33451527  0.4990492  -0.7920254  -0.10116019  0.7067059   0.17609555\n",
      "   1.4835619   0.91872823]\n",
      " [-0.8383039  -1.2230146   0.2208489  -0.953688    0.6428636  -0.6253697\n",
      "   0.5874606   0.49137023 -0.8472784  -0.7310957   0.4476346  -0.41904137\n",
      "   0.69333255  0.10643619  0.22193508  0.6439745   0.5455457   0.00914827\n",
      "   0.14109546  1.2930726 ]\n",
      " [ 0.9890087   0.07412689  1.3600852  -1.0654922   0.44269356 -1.0174495\n",
      "  -0.23655944 -0.05521192 -0.09227239 -0.09793489 -0.15650593 -1.2228208\n",
      "  -0.75810885  1.2389212  -0.12114529  0.6285956   0.19187585  1.8347923\n",
      "  -0.73083365 -0.4764115 ]\n",
      " [ 0.62284267 -0.9774197   0.87327117  1.3921812  -0.69753754 -0.5861852\n",
      "  -1.3090613  -1.2568587   0.6466282  -0.18185695  0.828534    1.0238501\n",
      "   1.057506   -0.823406    1.2292898   0.44829503  1.6648076   0.33340958\n",
      "   0.6065554  -0.8654735 ]\n",
      " [-0.4607295   0.115399    0.6719308   1.6687207   1.3086022   0.41126642\n",
      "   0.4995912   1.2401115  -1.2491288   0.41202027 -0.49304274 -1.6330205\n",
      "   0.97586375  0.8658228  -0.15351517 -0.70078886 -1.6180912   0.7244692\n",
      "   0.0730617  -0.89907116]\n",
      " [-1.0518875   1.1777337  -0.9337795  -0.06888974  0.18857646  0.3505665\n",
      "   0.41687596  0.7672652  -0.3760992   1.3776494   0.29519463 -0.4720073\n",
      "  -1.7877854  -1.4671377  -0.42656025 -0.01266515  1.1203707  -0.86126214\n",
      "  -0.40672946 -1.0325505 ]\n",
      " [-1.1622317  -0.7649616  -0.40298674  0.7604065   0.3796524   1.0873995\n",
      "   0.14835684 -0.8016807   0.42825323 -0.22768638  0.730663   -1.0858352\n",
      "  -0.7192508  -0.56317306  1.0349196  -0.80786395 -0.9590776  -0.63986814\n",
      "  -1.1907936  -0.50876236]\n",
      " [-0.3239401  -0.8294862  -0.078467    0.14751661  0.14282599  0.16679353\n",
      "  -0.03595145  1.7255005  -0.37016663  0.52736485 -1.9486938  -0.5706137\n",
      "   0.25215265 -0.9894023  -0.2468902   0.4466578   0.250756    0.7884515\n",
      "   0.6878645  -0.5264183 ]\n",
      " [ 1.35959     0.7134996  -0.08351991 -0.06034209  0.7235541  -0.16679676\n",
      "   0.8109733  -1.3617933   0.7648599   0.15857968 -0.00693821  0.0115148\n",
      "   0.2996428  -0.54217255 -1.1264724   0.011997    0.49742505 -0.43315092\n",
      "  -0.71806604  0.06110844]\n",
      " [-0.8230845   0.08217673  0.6604359  -1.0060701  -0.27777275  1.3911154\n",
      "   0.17413507 -1.3791698   0.7318307   1.0515519  -0.82480645  0.8376813\n",
      "  -0.31747863  0.36856803 -1.8222302  -0.48136228 -0.16298388 -0.07803112\n",
      "  -0.0696877  -1.454534  ]\n",
      " [-0.10444059 -1.2775764   0.8378615   0.9933132   0.52190226 -1.0899165\n",
      "  -0.3144195  -0.24495201 -0.571809   -0.61216575  0.2560595  -0.9774746\n",
      "  -0.61726975 -0.6311072  -0.8376656  -1.3088189  -0.16635634  0.5272414\n",
      "  -0.7730454  -0.02506365]\n",
      " [-0.71973145 -0.25031328 -0.23130757  1.0762516  -0.09142756 -0.08010369\n",
      "  -0.36682472  0.83274585 -0.13205089 -1.7116041  -0.86889076 -0.6379039\n",
      "  -1.55461    -0.7224172   1.8797956  -1.3736904  -1.1916525  -0.00740006\n",
      "  -1.6993412  -0.7121449 ]\n",
      " [ 0.05427043  0.8597478   0.23604237  0.8194837  -1.3909199  -1.2519315\n",
      "   0.1478376  -0.75948244 -0.57146746  1.8156296  -0.9996396  -0.98404866\n",
      "  -0.99670297 -0.3601904   0.575209   -0.64297706  1.2892091  -0.45401925\n",
      "  -1.1346009  -0.60708016]\n",
      " [ 0.35196653  1.5515026  -0.43320554 -0.26715413 -0.38009155 -1.2613829\n",
      "  -0.01040362 -1.1441286   0.4422929  -1.3353164  -0.46689963  1.1826285\n",
      "  -0.19117185  0.83740044 -0.477942   -0.00550928 -0.88382137 -0.60270715\n",
      "  -0.5709189  -0.67740875]\n",
      " [ 1.0374136  -0.06005429 -1.1358814  -0.18921009  1.5320648   0.503509\n",
      "  -0.20457786 -0.1567749   0.18528745 -0.94180334 -0.29645285 -0.44321942\n",
      "  -0.75007486 -0.75865877 -1.0707505   1.4134202   0.4251765   0.40874872\n",
      "   0.6743331  -0.14941986]\n",
      " [-0.6488144  -1.1061685  -1.552041   -1.887466    1.0894585   0.31427196\n",
      "  -1.4480338  -1.4024321  -0.6383715  -0.8801141  -1.4614655   0.8852961\n",
      "  -1.2505494   1.9095562   0.10592099  0.36728385 -0.05702528 -1.794872\n",
      "   0.14368947 -1.5642219 ]\n",
      " [ 0.6065969   0.920199   -0.23368503  1.7448955   0.29856035  0.48780653\n",
      "   0.18502139 -0.27778286 -0.3386829   0.1456485   0.0347723  -1.4464494\n",
      "   0.10154506  0.92939836  1.6482095   1.30731    -0.07638079 -0.2136586\n",
      "   1.7211008   0.86143273]\n",
      " [ 0.60193604 -0.0124076  -1.5307585   1.0356667  -0.00770842  0.81014043\n",
      "  -0.9804195   1.0486213  -1.6569799  -0.9760999   0.39548764 -0.38984048\n",
      "  -1.4540935  -1.2354203  -0.00865478  1.1112059  -0.1436538   0.9722823\n",
      "  -0.05249597 -0.41465425]]\n"
     ]
    }
   ],
   "source": [
    "# Here is an example of the eval function used outside the IntereactiveSession\n",
    "\n",
    "with tf2x.Session() as sess:\n",
    "    print(tf2x.truncated_normal((20,20), mean=0, stddev=1).eval())\n",
    "    sess.close()"
   ]
  },
  {
   "cell_type": "code",
   "execution_count": 4,
   "metadata": {},
   "outputs": [
    {
     "data": {
      "text/plain": [
       "6"
      ]
     },
     "execution_count": 4,
     "metadata": {},
     "output_type": "execute_result"
    }
   ],
   "source": [
    "# It can be done as easily as shown below in the interactive session\n",
    "\n",
    "(tf.constant(2) + tf.constant(4)).numpy()"
   ]
  },
  {
   "cell_type": "code",
   "execution_count": 5,
   "metadata": {},
   "outputs": [
    {
     "data": {
      "text/plain": [
       "<tf.Tensor: id=15, shape=(), dtype=int32, numpy=6>"
      ]
     },
     "execution_count": 5,
     "metadata": {},
     "output_type": "execute_result"
    }
   ],
   "source": [
    "# This can also be done using the 'tf.add()' attribute\n",
    "\n",
    "tf.add(tf.constant(2), tf.constant(4), name=None)"
   ]
  },
  {
   "cell_type": "code",
   "execution_count": 6,
   "metadata": {},
   "outputs": [
    {
     "data": {
      "text/plain": [
       "array([[1., 1., 1.],\n",
       "       [1., 1., 1.],\n",
       "       [1., 1., 1.]], dtype=float32)"
      ]
     },
     "execution_count": 6,
     "metadata": {},
     "output_type": "execute_result"
    }
   ],
   "source": [
    "# Tensors can also be Subtracted\n",
    "\n",
    "a = tf.ones((3,3)) - tf.zeros((3,3))\n",
    "a.numpy()"
   ]
  },
  {
   "cell_type": "code",
   "execution_count": 7,
   "metadata": {},
   "outputs": [
    {
     "data": {
      "text/plain": [
       "array([[1., 1., 1.],\n",
       "       [1., 1., 1.],\n",
       "       [1., 1., 1.]], dtype=float32)"
      ]
     },
     "execution_count": 7,
     "metadata": {},
     "output_type": "execute_result"
    }
   ],
   "source": [
    "# Alternatively...\n",
    "\n",
    "with tf2x.Session() as sess:\n",
    "    a = tf.ones((3,3)) - tf.zeros((3,3))\n",
    "    sess.close()\n",
    "a.eval()\n",
    "\n",
    "# The eval function converts the tensors to a 'numpy.ndarray' type"
   ]
  },
  {
   "cell_type": "code",
   "execution_count": 8,
   "metadata": {},
   "outputs": [
    {
     "data": {
      "text/plain": [
       "<tf.Tensor: id=28, shape=(), dtype=int32, numpy=-2>"
      ]
     },
     "execution_count": 8,
     "metadata": {},
     "output_type": "execute_result"
    }
   ],
   "source": [
    "# This can also be done using the 'tf.subtract()' attribute\n",
    "\n",
    "tf.subtract(tf.constant(2), tf.constant(4), name=None)"
   ]
  },
  {
   "cell_type": "code",
   "execution_count": 9,
   "metadata": {},
   "outputs": [
    {
     "data": {
      "text/plain": [
       "array([[0., 0., 0.],\n",
       "       [0., 0., 0.],\n",
       "       [0., 0., 0.]], dtype=float32)"
      ]
     },
     "execution_count": 9,
     "metadata": {},
     "output_type": "execute_result"
    }
   ],
   "source": [
    "# Tensors can also be multiplied. \n",
    "# Note that the multiplication is done differently when dealing with matrices\n",
    "\n",
    "with tf2x.Session() as sess:\n",
    "    a = tf.ones((3,3)) * tf.zeros((3,3)) \n",
    "    sess.close()\n",
    "    \n",
    "a.eval()"
   ]
  },
  {
   "cell_type": "code",
   "execution_count": 10,
   "metadata": {},
   "outputs": [
    {
     "data": {
      "text/plain": [
       "array([[3., 3., 3.],\n",
       "       [3., 3., 3.],\n",
       "       [3., 3., 3.]], dtype=float32)"
      ]
     },
     "execution_count": 10,
     "metadata": {},
     "output_type": "execute_result"
    }
   ],
   "source": [
    "# Interactive session\n",
    "\n",
    "(float(tf.constant(3)) * tf.ones((3,3))).numpy()"
   ]
  },
  {
   "cell_type": "code",
   "execution_count": 11,
   "metadata": {},
   "outputs": [
    {
     "data": {
      "text/plain": [
       "8"
      ]
     },
     "execution_count": 11,
     "metadata": {},
     "output_type": "execute_result"
    }
   ],
   "source": [
    "# This can also be done using the 'tf.multiply()' attribute\n",
    "\n",
    "tf.multiply(tf.constant(2), tf.constant(4), name=None).numpy()"
   ]
  },
  {
   "cell_type": "code",
   "execution_count": 12,
   "metadata": {},
   "outputs": [
    {
     "data": {
      "text/plain": [
       "array([[inf, inf, inf],\n",
       "       [inf, inf, inf],\n",
       "       [inf, inf, inf]], dtype=float32)"
      ]
     },
     "execution_count": 12,
     "metadata": {},
     "output_type": "execute_result"
    }
   ],
   "source": [
    "# Tensors can also be divided. \n",
    "\n",
    "with tf2x.Session() as sess:\n",
    "    a = tf.ones((3,3)) / tf.zeros((3,3)) \n",
    "    sess.close()\n",
    "    \n",
    "a.eval()\n",
    "\n",
    "# 'inf' below means infinity"
   ]
  },
  {
   "cell_type": "code",
   "execution_count": 13,
   "metadata": {},
   "outputs": [
    {
     "data": {
      "text/plain": [
       "array([[0.33333334, 0.33333334, 0.33333334],\n",
       "       [0.33333334, 0.33333334, 0.33333334],\n",
       "       [0.33333334, 0.33333334, 0.33333334]], dtype=float32)"
      ]
     },
     "execution_count": 13,
     "metadata": {},
     "output_type": "execute_result"
    }
   ],
   "source": [
    "# Interactive session\n",
    "\n",
    "(tf.ones((3,3)) / float(tf.constant(3))).numpy()"
   ]
  },
  {
   "cell_type": "code",
   "execution_count": 14,
   "metadata": {},
   "outputs": [
    {
     "data": {
      "text/plain": [
       "<tf.Tensor: id=54, shape=(), dtype=float64, numpy=0.5>"
      ]
     },
     "execution_count": 14,
     "metadata": {},
     "output_type": "execute_result"
    }
   ],
   "source": [
    "# This can also be done using the 'tf.divide()' attribute\n",
    "# The 'tf.div()' divides using python2 division semantics\n",
    "\n",
    "tf.divide(tf.constant(2), tf.constant(4), name=None)"
   ]
  },
  {
   "cell_type": "code",
   "execution_count": null,
   "metadata": {},
   "outputs": [],
   "source": []
  },
  {
   "cell_type": "code",
   "execution_count": null,
   "metadata": {},
   "outputs": [],
   "source": [
    "#                           NEXT == Matrix Operations Using TensorFlow"
   ]
  }
 ],
 "metadata": {
  "kernelspec": {
   "display_name": "Python 3",
   "language": "python",
   "name": "python3"
  },
  "language_info": {
   "codemirror_mode": {
    "name": "ipython",
    "version": 3
   },
   "file_extension": ".py",
   "mimetype": "text/x-python",
   "name": "python",
   "nbconvert_exporter": "python",
   "pygments_lexer": "ipython3",
   "version": "3.6.9"
  }
 },
 "nbformat": 4,
 "nbformat_minor": 2
}
