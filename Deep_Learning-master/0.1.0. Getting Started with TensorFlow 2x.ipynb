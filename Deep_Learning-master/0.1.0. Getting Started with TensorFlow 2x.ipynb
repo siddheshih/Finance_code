{
 "cells": [
  {
   "cell_type": "markdown",
   "metadata": {},
   "source": [
    "<div class=\"alert alert-block alert-success\" style=\"margin-top: 20px\">\n",
    " <h1>Getting Started with TensorFlow</h1>\n",
    "</div>"
   ]
  },
  {
   "cell_type": "code",
   "execution_count": 1,
   "metadata": {},
   "outputs": [],
   "source": [
    "# Created by: ADMINIXTRATOR             Date: 9th January, 2020\n",
    "# Twitter: Adminixtrator                Email: minixtrator@gmail.com\n",
    "# \n",
    "# Python version: 3.7.4 amd64 (64-bit)    TensorFlow: 2.0.0\n",
    "\n",
    "\n",
    "import tensorflow as tf"
   ]
  },
  {
   "cell_type": "code",
   "execution_count": 2,
   "metadata": {},
   "outputs": [
    {
     "data": {
      "text/plain": [
       "<tensorflow.python.client.session.InteractiveSession at 0x171e3b57c8>"
      ]
     },
     "execution_count": 2,
     "metadata": {},
     "output_type": "execute_result"
    }
   ],
   "source": [
    "# To use TensorFlow 2x, you need to add '.compat.v1' before the attribute\n",
    "# Although you can define your TF 2x to behave like 1x\n",
    "\n",
    "tf.compat.v1.InteractiveSession()\n",
    "\n",
    "# Experimenting with tensorflow interactively"
   ]
  },
  {
   "cell_type": "code",
   "execution_count": 3,
   "metadata": {},
   "outputs": [],
   "source": [
    "# Another way to make our lives easier is to declare another variable to hold the module 'tf.compat.v1'\n",
    "\n",
    "tf2x = tf.compat.v1"
   ]
  },
  {
   "cell_type": "code",
   "execution_count": 4,
   "metadata": {},
   "outputs": [
    {
     "name": "stderr",
     "output_type": "stream",
     "text": [
      "c:\\users\\funminiyi sadiq\\appdata\\local\\programs\\python\\python37\\lib\\site-packages\\tensorflow_core\\python\\client\\session.py:1750: UserWarning: An interactive session is already active. This can cause out-of-memory errors in some cases. You must explicitly call `InteractiveSession.close()` to release resources held by the other session(s).\n",
      "  warnings.warn('An interactive session is already active. This can '\n"
     ]
    },
    {
     "data": {
      "text/plain": [
       "<tensorflow.python.client.session.InteractiveSession at 0x171e3bfc48>"
      ]
     },
     "execution_count": 4,
     "metadata": {},
     "output_type": "execute_result"
    }
   ],
   "source": [
    "tf2x.InteractiveSession()\n",
    "\n",
    "# Voila.. \n",
    "# Now all other attributes will be addressed with 'tf2x.<Session>'"
   ]
  },
  {
   "cell_type": "code",
   "execution_count": 5,
   "metadata": {},
   "outputs": [
    {
     "data": {
      "text/plain": [
       "<tf.Tensor: id=3, shape=(2,), dtype=float32, numpy=array([0., 0.], dtype=float32)>"
      ]
     },
     "execution_count": 5,
     "metadata": {},
     "output_type": "execute_result"
    }
   ],
   "source": [
    "# The easiest conventions in creating a Tensor are 'tf.zeros' and 'tf.ones'\n",
    "# To show the created Tensor you call 'tf.Tensor.eval()' - in this case, it will be 'tf.Tensor.numpy()' since we are in an \n",
    "# interactive session\n",
    "# The 'tf.eval' is the same as your 'np.ndarray' - Numpy\n",
    "# TensorFlow was built to be compatible with Numpy conventions\n",
    "\n",
    "tf.zeros(2)"
   ]
  },
  {
   "cell_type": "code",
   "execution_count": 6,
   "metadata": {
    "scrolled": true
   },
   "outputs": [
    {
     "data": {
      "text/plain": [
       "array([[0., 0., 0.],\n",
       "       [0., 0., 0.],\n",
       "       [0., 0., 0.]], dtype=float32)"
      ]
     },
     "execution_count": 6,
     "metadata": {},
     "output_type": "execute_result"
    }
   ],
   "source": [
    "#   tf.zeros((3,3)).eval()  -   The eval function does not work because we are in an InteractiveSession\n",
    "\n",
    "tf.zeros((3,3)).numpy()"
   ]
  },
  {
   "cell_type": "code",
   "execution_count": 7,
   "metadata": {},
   "outputs": [
    {
     "data": {
      "text/plain": [
       "array([[[1., 1.],\n",
       "        [1., 1.]],\n",
       "\n",
       "       [[1., 1.],\n",
       "        [1., 1.]]], dtype=float32)"
      ]
     },
     "execution_count": 7,
     "metadata": {},
     "output_type": "execute_result"
    }
   ],
   "source": [
    "tf.ones((2,2,2)).numpy()"
   ]
  },
  {
   "cell_type": "code",
   "execution_count": 8,
   "metadata": {},
   "outputs": [
    {
     "data": {
      "text/plain": [
       "array([[3, 3, 3],\n",
       "       [3, 3, 3],\n",
       "       [3, 3, 3]])"
      ]
     },
     "execution_count": 8,
     "metadata": {},
     "output_type": "execute_result"
    }
   ],
   "source": [
    "# Another method is the 'tf.fill()' - create tensors of quantities beside 1/0\n",
    "# The 'tf.constant()' is used to create Tensors that will not change throughout the program execution\n",
    "\n",
    "tf.fill((3,3), value=3).numpy()"
   ]
  },
  {
   "cell_type": "code",
   "execution_count": 9,
   "metadata": {},
   "outputs": [
    {
     "data": {
      "text/plain": [
       "12"
      ]
     },
     "execution_count": 9,
     "metadata": {},
     "output_type": "execute_result"
    }
   ],
   "source": [
    "tf.constant(12).numpy()"
   ]
  },
  {
   "cell_type": "code",
   "execution_count": 10,
   "metadata": {},
   "outputs": [
    {
     "data": {
      "text/plain": [
       "array([[-2.2285936 ,  1.4933051 ,  0.03604329],\n",
       "       [ 1.634942  , -0.55107546,  0.3679331 ],\n",
       "       [ 0.5500853 ,  2.0355678 , -0.5707518 ]], dtype=float32)"
      ]
     },
     "execution_count": 10,
     "metadata": {},
     "output_type": "execute_result"
    }
   ],
   "source": [
    "# Tensors can also be created using the 'tf.random_normal' - this is an attribute\n",
    "# Here you can specify the mean and standard deviation of then random values\n",
    "\n",
    "tf2x.random_normal((3,3), mean=1, stddev=2).numpy()"
   ]
  },
  {
   "cell_type": "code",
   "execution_count": 11,
   "metadata": {},
   "outputs": [
    {
     "data": {
      "text/plain": [
       "array([[ 2.1833906 ,  0.16011885,  1.167581  , ...,  1.3656489 ,\n",
       "         3.413081  , -2.3120842 ],\n",
       "       [-0.6460326 ,  1.0959543 ,  1.7580105 , ..., -1.2340318 ,\n",
       "         2.010972  ,  0.39672688],\n",
       "       [-0.858003  , -3.8768098 , -0.36111295, ..., -2.657211  ,\n",
       "         1.8106611 , -3.0877113 ],\n",
       "       ...,\n",
       "       [-3.3364859 ,  3.142448  , -4.0399776 , ..., -3.65737   ,\n",
       "         3.7172432 , -2.1294777 ],\n",
       "       [ 4.4432693 , -3.0632572 ,  2.4816728 , ...,  4.394312  ,\n",
       "        -2.3020859 , -3.6823502 ],\n",
       "       [-0.42149058, -1.0195161 , -4.276531  , ..., -0.97110236,\n",
       "        -2.8536296 , -0.97242105]], dtype=float32)"
      ]
     },
     "execution_count": 11,
     "metadata": {},
     "output_type": "execute_result"
    }
   ],
   "source": [
    "# Another attribute is the 'tf.truncated_normal()' - this is used when working with large samples\n",
    "# Due to Numerical Stability, it is advisable to use this attribute\n",
    "\n",
    "tf2x.truncated_normal((50,50), mean=0.1, stddev=3).numpy()"
   ]
  },
  {
   "cell_type": "code",
   "execution_count": 12,
   "metadata": {},
   "outputs": [
    {
     "data": {
      "text/plain": [
       "array([[0.91220176, 0.18596375, 0.85654044],\n",
       "       [0.54235315, 0.4872867 , 0.6222974 ],\n",
       "       [0.5697758 , 0.23914456, 0.82107747]], dtype=float32)"
      ]
     },
     "execution_count": 12,
     "metadata": {},
     "output_type": "execute_result"
    }
   ],
   "source": [
    "# The 'tf.random_uniform' also behaves like the random_normal, except that it is specified a range\n",
    "# It's values are sampled from a Uniform Distribution - hence the name\n",
    "\n",
    "tf2x.random_uniform((3,3), minval=0, maxval=1).numpy()"
   ]
  },
  {
   "cell_type": "code",
   "execution_count": null,
   "metadata": {},
   "outputs": [],
   "source": []
  },
  {
   "cell_type": "code",
   "execution_count": null,
   "metadata": {},
   "outputs": [],
   "source": [
    "#                        NEXT == Tensor Addition and Scaling"
   ]
  }
 ],
 "metadata": {
  "kernelspec": {
   "display_name": "Python 3",
   "language": "python",
   "name": "python3"
  },
  "language_info": {
   "codemirror_mode": {
    "name": "ipython",
    "version": 3
   },
   "file_extension": ".py",
   "mimetype": "text/x-python",
   "name": "python",
   "nbconvert_exporter": "python",
   "pygments_lexer": "ipython3",
   "version": "3.7.7"
  }
 },
 "nbformat": 4,
 "nbformat_minor": 2
}
