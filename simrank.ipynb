{
 "cells": [
  {
   "cell_type": "code",
   "execution_count": 2,
   "metadata": {},
   "outputs": [],
   "source": [
    "import numpy\n",
    "from numpy import matrix\n",
    "\n",
    "with open('sample1.txt', 'r') as log_fp:\n",
    "    logs = [ log.strip() for log in log_fp.readlines() ]"
   ]
  },
  {
   "cell_type": "code",
   "execution_count": 3,
   "metadata": {},
   "outputs": [],
   "source": [
    "logs_tuple = [ tuple(log.split(\",\")) for log in logs ]\n",
    "\n",
    "queries = list(set([ log[0] for log in logs_tuple ]))\n",
    "ads = list(set([ log[1] for log in logs_tuple ]))\n",
    "\n",
    "# Graph means the relations number\n",
    "graph = numpy.matrix(numpy.zeros([len(queries), len(ads)]))"
   ]
  },
  {
   "cell_type": "code",
   "execution_count": 5,
   "metadata": {},
   "outputs": [
    {
     "name": "stdout",
     "output_type": "stream",
     "text": [
      "[[ 0. 10.  0.  0.]\n",
      " [16.  0. 15.  0.]\n",
      " [ 0. 30.  0.  7.]\n",
      " [ 0. 20.  0.  5.]\n",
      " [ 0.  0.  0. 15.]]\n"
     ]
    }
   ],
   "source": [
    "for log in logs_tuple:\n",
    "    query = log[0]\n",
    "    ad = log[1]\n",
    "    q_i = queries.index(query)\n",
    "    a_j = ads.index(ad)\n",
    "    graph[q_i, a_j] += 1\n",
    "\n",
    "print(graph)"
   ]
  },
  {
   "cell_type": "code",
   "execution_count": 6,
   "metadata": {},
   "outputs": [],
   "source": [
    "query_sim = matrix(numpy.identity(len(queries)))\n",
    "ad_sim = matrix(numpy.identity(len(ads)))\n"
   ]
  },
  {
   "cell_type": "code",
   "execution_count": 7,
   "metadata": {},
   "outputs": [],
   "source": [
    "def get_ads_num(query):\n",
    "    q_i = queries.index(query)\n",
    "    return graph[q_i]\n",
    "\n",
    "def get_queries_num(ad):\n",
    "    a_j = ads.index(ad)\n",
    "    return graph.transpose()[a_j]\n",
    "\n",
    "def get_ads(query):\n",
    "    series = get_ads_num(query).tolist()[0]\n",
    "    return [ ads[x] for x in range(len(series)) if series[x] > 0 ]\n",
    "\n",
    "def get_queries(ad):\n",
    "    series = get_queries_num(ad).tolist()[0]\n",
    "    return [ queries[x] for x in range(len(series)) if series[x] > 0 ]\n",
    "\n",
    "\n",
    "def query_simrank(q1, q2, C):\n",
    "    \"\"\"\n",
    "    in this, graph[q_i] -> connected ads\n",
    "    \"\"\"\n",
    "    \"\"\"\n",
    "    print \"q1.ads\"\n",
    "    print get_ads_num(q1).tolist()\n",
    "    print \"q2.ads\"\n",
    "    print get_ads_num(q2).tolist()\n",
    "    \"\"\"\n",
    "    if q1 == q2 : return 1\n",
    "    prefix = C / (get_ads_num(q1).sum() * get_ads_num(q2).sum())\n",
    "    postfix = 0\n",
    "    for ad_i in get_ads(q1):\n",
    "        for ad_j in get_ads(q2):\n",
    "            i = ads.index(ad_i)\n",
    "            j = ads.index(ad_j)\n",
    "            postfix += ad_sim[i, j]\n",
    "    return prefix * postfix\n",
    "    \n",
    "\n",
    "def ad_simrank(a1, a2, C):\n",
    "    \"\"\"\n",
    "    in this, graph need to be transposed to make ad to be the index\n",
    "    \"\"\"\n",
    "    \"\"\"\n",
    "    print \"a1.queries\"\n",
    "    print get_queries_num(a1)\n",
    "    print \"a2.queries\"\n",
    "    print get_queries_num(a2)\n",
    "    \"\"\"\n",
    "    if a1 == a2 : return 1\n",
    "    prefix = C / (get_queries_num(a1).sum() * get_queries_num(a2).sum())\n",
    "    postfix = 0\n",
    "    for query_i in get_queries(a1):\n",
    "        for query_j in get_queries(a2):\n",
    "            i = queries.index(query_i)\n",
    "            j = queries.index(query_j)\n",
    "            postfix += query_sim[i,j]\n",
    "    return prefix * postfix\n"
   ]
  },
  {
   "cell_type": "code",
   "execution_count": 9,
   "metadata": {},
   "outputs": [
    {
     "name": "stdout",
     "output_type": "stream",
     "text": [
      "['pc', 'flower', 'digital camera', 'camera', 'tv']\n",
      "['teleflora.com', 'hp.com', 'orchids.com', 'bestbuy.com']\n",
      "[[1.         0.         0.00216216 0.0032     0.        ]\n",
      " [0.         1.         0.         0.         0.        ]\n",
      " [0.00216216 0.         1.         0.00172973 0.00144144]\n",
      " [0.0032     0.         0.00172973 1.         0.00213333]\n",
      " [0.         0.         0.00144144 0.00213333 1.        ]]\n",
      "[[1.00000000e+00 0.00000000e+00 3.33333333e-03 0.00000000e+00]\n",
      " [0.00000000e+00 1.00000000e+00 0.00000000e+00 9.87654321e-04]\n",
      " [3.33333333e-03 0.00000000e+00 1.00000000e+00 0.00000000e+00]\n",
      " [0.00000000e+00 9.87654321e-04 0.00000000e+00 1.00000000e+00]]\n"
     ]
    }
   ],
   "source": [
    "def simrank(C=0.8, times=1):\n",
    "    global query_sim, ad_sim\n",
    "\n",
    "    for run in range(times):\n",
    "        # queries simrank\n",
    "        new_query_sim = matrix(numpy.identity(len(queries)))\n",
    "        for qi in queries:\n",
    "            for qj in queries:\n",
    "                i = queries.index(qi)\n",
    "                j = queries.index(qj)\n",
    "                new_query_sim[i,j] = query_simrank(qi, qj, C)\n",
    "\n",
    "        # ads simrank\n",
    "        new_ad_sim = matrix(numpy.identity(len(ads)))\n",
    "        for ai in ads:\n",
    "            for aj in ads:\n",
    "                i = ads.index(ai)\n",
    "                j = ads.index(aj)\n",
    "                new_ad_sim[i,j] = ad_simrank(ai, aj, C)\n",
    "\n",
    "        query_sim = new_query_sim\n",
    "        ad_sim = new_ad_sim\n",
    "\n",
    "\n",
    "if __name__ == '__main__':\n",
    "    print(queries)\n",
    "    print(ads)\n",
    "    simrank()\n",
    "    print(query_sim)\n",
    "    print(ad_sim)"
   ]
  },
  {
   "cell_type": "code",
   "execution_count": null,
   "metadata": {},
   "outputs": [],
   "source": []
  }
 ],
 "metadata": {
  "kernelspec": {
   "display_name": "Python 3",
   "language": "python",
   "name": "python3"
  },
  "language_info": {
   "codemirror_mode": {
    "name": "ipython",
    "version": 3
   },
   "file_extension": ".py",
   "mimetype": "text/x-python",
   "name": "python",
   "nbconvert_exporter": "python",
   "pygments_lexer": "ipython3",
   "version": "3.7.3"
  }
 },
 "nbformat": 4,
 "nbformat_minor": 2
}
