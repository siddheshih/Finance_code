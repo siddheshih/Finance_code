{
 "cells": [
  {
   "cell_type": "code",
   "execution_count": 14,
   "metadata": {},
   "outputs": [
    {
     "data": {
      "text/plain": [
       "'\\nFor consitancy of operations in tendorflow:\\n1. Make sure everything - evenry input is in float32 and all operations are on float32\\n'"
      ]
     },
     "execution_count": 14,
     "metadata": {},
     "output_type": "execute_result"
    }
   ],
   "source": [
    "import tensorflow as tf\n",
    "tf2x=tf.compat.v1\n",
    "import numpy as np\n",
    "from scipy.special import gamma\n",
    "\"\"\"\n",
    "For consitancy of operations in tendorflow:\n",
    "1. Make sure everything - evenry input is in float32 and all operations are on float32\n",
    "\"\"\""
   ]
  },
  {
   "cell_type": "code",
   "execution_count": 15,
   "metadata": {},
   "outputs": [],
   "source": [
    "def pairwise_dist (A, B):  \n",
    "    \n",
    "    \"\"\"\n",
    "  Computes pairwise distances between each elements of A and each elements of B.\n",
    "  Args:\n",
    "    A:    [m,d] matrix\n",
    "    B:    [n,d] matrix\n",
    "  Returns:\n",
    "    D:    [m,n] matrix of pairwise distances\n",
    "           If A is a single element then we get an array of vectors  \n",
    "    \"\"\"\n",
    "    with tf2x.variable_scope('pairwise_dist'):\n",
    "    # squared norms of each row in A and B\n",
    "        na = tf2x.reduce_sum(tf.square(A), 1)\n",
    "        nb = tf2x.reduce_sum(tf.square(B), 1)\n",
    "    \n",
    "    # na as a row and nb as a column vectors\n",
    "    na = tf2x.reshape(na, [-1, 1])\n",
    "    nb = tf2x.reshape(nb, [1, -1])\n",
    "\n",
    "    # return pairwise euclidean diance matrix or a vector of distances\n",
    "    D = tf.sqrt(tf.maximum(na - 2*tf.matmul(A, B, False, True) + nb, 0))\n",
    "    return D"
   ]
  },
  {
   "cell_type": "code",
   "execution_count": 47,
   "metadata": {},
   "outputs": [],
   "source": [
    "def trans_func(i):\n",
    "    global d,m\n",
    "    if d%2==0:\n",
    "        nu_md_num=(i**((2*m)-d))*((-1)**(m+1+(d/2)))*(np.log(i))\n",
    "        nu_md_deno=(2**(2*m-1))*(np.pi**(d/2))*(np.math.factorial(m-1))*(np.math.factorial(m-(d/2)))\n",
    "        k=nu_md_num/nu_md_deno\n",
    "        #trans.append(k)\n",
    "    else:\n",
    "        \n",
    "        nu_md_num=(i**((2*m)-d))*(gamma((d/2)-m))\n",
    "        nu_md_deno=(2**(2*m))*(np.pi**(d/2))*(np.math.factorial(m-1))\n",
    "        k=nu_md_num/nu_md_deno\n",
    "        \n",
    "        \n",
    "    return k\n",
    "\n",
    "    "
   ]
  },
  {
   "cell_type": "code",
   "execution_count": 48,
   "metadata": {},
   "outputs": [
    {
     "name": "stdout",
     "output_type": "stream",
     "text": [
      "tf.Tensor([-0.         -0.1103178  -0.17484958 -0.2206356  -0.25615    -0.28516738], shape=(6,), dtype=float64)\n"
     ]
    }
   ],
   "source": [
    "m=1\n",
    "d=2\n",
    "elems = np.array([1, 2., 3, 4, 5, 6])\n",
    "a=tf.map_fn(trans_func,elems)\n",
    "print(a)"
   ]
  },
  {
   "cell_type": "code",
   "execution_count": 49,
   "metadata": {},
   "outputs": [],
   "source": [
    "def tps(r_ast,c_ast,r_nov,c_nov,offset,Xu,beta=[3,4],phi=[[1,0,0],[0,1,0],[0,0,1]],m=3,d=2,uz_in=[1.,1,1,1,1,1,1,1],Q_qr=[1,.1,1,1]):\n",
    "    \"\"\"\n",
    "    offset: It is an array of 2 dimension that basically denotes the alpha\n",
    "    Xu: An array of 2d points  \n",
    "    phi: The thin plate spline matrix\n",
    "         Note its form: It is of form list of lists\n",
    "    \n",
    "    \"\"\"\n",
    "    x_nov=tf.constant([r_nov,c_nov])\n",
    "    x_ast=tf.constant([r_ast,c_ast])\n",
    "    \n",
    "    ## This is the first step from the TPS optimization\n",
    "    x_cap_nov=x_ast-x_nov\n",
    "    \n",
    "    ## Applying the offset this is the second step\n",
    "    alpha=tf.constant(offset,dtype='float32')\n",
    "    x_til_nov=x_cap_nov-alpha\n",
    "    x_til_nov=tf.cast(x_til_nov,tf.float32)\n",
    "    \n",
    "    ##L-2 norm step\n",
    "    ## D is the vector of eucledian distances\n",
    "    c= x_til_nov.numpy()\n",
    "    lst = [[None]]\n",
    "    data = np.array(Xu, dtype=np.float32)\n",
    "    lst[0]=c\n",
    "    D=pairwise_dist (lst, data)\n",
    "    \n",
    "    ##Transform the matrix\n",
    "    \"\"\"\n",
    "    The vector trans stores the transformed eucledean distance\n",
    "    \"\"\"\n",
    "    arr=D.numpy()\n",
    "    trans_tesnor=tf.map_fn(trans_func,elems)\n",
    "#     trans=[]\n",
    "#     if d%2==0:\n",
    "#         for i in arr:\n",
    "#             nu_md_num=(i**((2*m)-d))*((-1)**(m+1+(d/2)))*(np.log(i))\n",
    "#             nu_md_deno=(2**(2*m-1))*(np.pi**(d/2))*(np.math.factorial(m-1))*(np.math.factorial(m-(d/2)))\n",
    "#             k=nu_md_num/nu_md_deno\n",
    "#             trans.append(k)\n",
    "#     else:\n",
    "#         for i in arr:\n",
    "#             nu_md_num=(i**((2*m)-d))*(gamma((d/2)-m))\n",
    "#             nu_md_deno=(2**(2*m))*(np.pi**(d/2))*(np.math.factorial(m-1))\n",
    "#             k=nu_md_num/nu_md_deno\n",
    "#             trans.append(k)\n",
    "    \n",
    "    ## The polynomial computation\n",
    "    trans=trans_tesnor.numpy()\n",
    "    \n",
    "    \"\"\"\n",
    "    T is the computed polynomial\n",
    "    \"\"\"\n",
    "    T=[]\n",
    "    c=x_nov.numpy()\n",
    "    for i in range(m):\n",
    "        ti=1\n",
    "        for j in range(len(c)):\n",
    "            ti=ti*(c[j]**phi[i][j])\n",
    "        T.append(ti)\n",
    "    return trans\n",
    "    \n",
    "    ###The appending step\n",
    "    \"\"\"\n",
    "    Note Here: E is a list of numbers\n",
    "    Zp is the actual vector that we need to pass to the spectral deomposition step\n",
    "    \n",
    "    \"\"\"\n",
    "    map(float,T)\n",
    "    E=[]\n",
    "    E=trans+T\n",
    "    arr=np.array(E)\n",
    "    c=np.array(arr)\n",
    "    zp=[]\n",
    "  \n",
    "    for i in c[0]:\n",
    "        zp.append(i)\n",
    "    for i in range((len(c)-1)):\n",
    "        zp.append(c[i+1])\n",
    "    \n",
    "    \n",
    "    \n",
    "    ###Reconstructing Z from Spectral decompostion\n",
    "    \"\"\"\n",
    "    Here the Inputs are matrix Q and matrix UZ\n",
    "    \"\"\"\n",
    "    E_vec=tf.constant(zp, shape=[4])\n",
    "    UZ=tf.constant(uz_in, shape=[2,4])\n",
    "    Q=tf.constant(Q_qr,shape=[2,2])\n",
    "    K=tf.linalg.matvec(UZ,E_vec)\n",
    "    Z=tf.linalg.matvec(Q,K)\n",
    "    p=Z.numpy()\n",
    "    ## Update first variable of Z per intercept term:\n",
    "    p[0]=1\n",
    "    \n",
    "    \n",
    "    ## Getting the intercept\n",
    "    exponent=np.dot(beta,p)\n",
    "    y_hat=np.exp(exponent)\n",
    "    return y_hat\n",
    "    \n",
    " \n",
    "            \n",
    "            \n",
    "    \n",
    "    "
   ]
  },
  {
   "cell_type": "code",
   "execution_count": 50,
   "metadata": {},
   "outputs": [
    {
     "data": {
      "text/plain": [
       "array([-0.        , -0.1103178 , -0.17484958, -0.2206356 , -0.25615   ,\n",
       "       -0.28516738])"
      ]
     },
     "execution_count": 50,
     "metadata": {},
     "output_type": "execute_result"
    }
   ],
   "source": [
    "\n",
    "tps(2.3,3.7,5.6,6,[8,7],[[2,3]])"
   ]
  },
  {
   "cell_type": "code",
   "execution_count": 497,
   "metadata": {},
   "outputs": [],
   "source": [
    "x=tf.constant([1,3])\n",
    "y=tf.constant([[1,3],[5,6]])\n",
    "t=x-y\n",
    "r = tf.reduce_sum(y*y, 1)\n",
    "r = tf.reshape(r, [-1, 1])\n"
   ]
  },
  {
   "cell_type": "code",
   "execution_count": 182,
   "metadata": {},
   "outputs": [
    {
     "data": {
      "text/plain": [
       "<tf.Tensor: shape=(2, 2), dtype=int32, numpy=\n",
       "array([[ 0,  0],\n",
       "       [16,  9]], dtype=int32)>"
      ]
     },
     "execution_count": 182,
     "metadata": {},
     "output_type": "execute_result"
    }
   ],
   "source": [
    "t*t"
   ]
  },
  {
   "cell_type": "code",
   "execution_count": 195,
   "metadata": {},
   "outputs": [
    {
     "data": {
      "text/plain": [
       "120"
      ]
     },
     "execution_count": 195,
     "metadata": {},
     "output_type": "execute_result"
    }
   ],
   "source": [
    "np.math.factorial(5)\n"
   ]
  },
  {
   "cell_type": "code",
   "execution_count": 183,
   "metadata": {},
   "outputs": [
    {
     "data": {
      "text/plain": [
       "<tf.Tensor: shape=(1, 2), dtype=int32, numpy=array([[ 4, 13]], dtype=int32)>"
      ]
     },
     "execution_count": 183,
     "metadata": {},
     "output_type": "execute_result"
    }
   ],
   "source": [
    "D"
   ]
  },
  {
   "cell_type": "code",
   "execution_count": null,
   "metadata": {},
   "outputs": [],
   "source": []
  },
  {
   "cell_type": "code",
   "execution_count": 221,
   "metadata": {},
   "outputs": [
    {
     "data": {
      "text/plain": [
       "<tf.Tensor: shape=(1, 2), dtype=float32, numpy=array([[0., 5.]], dtype=float32)>"
      ]
     },
     "execution_count": 221,
     "metadata": {},
     "output_type": "execute_result"
    }
   ],
   "source": [
    "\n",
    "pairwise_dist([[1.0,3.0]],[[1.0,3.0],[5.0,6.0]])"
   ]
  },
  {
   "cell_type": "code",
   "execution_count": 239,
   "metadata": {},
   "outputs": [
    {
     "name": "stdout",
     "output_type": "stream",
     "text": [
      "1\n",
      "2\n",
      "3\n",
      "4\n",
      "5\n",
      "6\n",
      "7\n",
      "8\n",
      "9\n"
     ]
    }
   ],
   "source": [
    "\n",
    "z=[[1,2,3],[4,5,6],[7,8,9]]\n",
    "for i in range(3):\n",
    "    for j in range(3):\n",
    "        print(z[i][j])"
   ]
  },
  {
   "cell_type": "code",
   "execution_count": 417,
   "metadata": {},
   "outputs": [
    {
     "data": {
      "text/plain": [
       "<tf.Tensor: shape=(3,), dtype=int32, numpy=array([ 7,  9, 11], dtype=int32)>"
      ]
     },
     "execution_count": 417,
     "metadata": {},
     "output_type": "execute_result"
    }
   ],
   "source": [
    "a = tf.constant([1, 2, 3, 4, 5, 6], shape=[2, 3])\n",
    "\n",
    "# 1-D tensor `b`\n",
    "# [7, 9, 11]\n",
    "b = tf.constant([7, 9, 11], shape=[3])\n",
    "\n",
    "# `a` * `b`\n",
    "# [ 58,  64]\n",
    "c = tf.linalg.matvec(a, b)\n",
    "b"
   ]
  },
  {
   "cell_type": "code",
   "execution_count": 500,
   "metadata": {},
   "outputs": [
    {
     "data": {
      "text/plain": [
       "7.38905609893065"
      ]
     },
     "execution_count": 500,
     "metadata": {},
     "output_type": "execute_result"
    }
   ],
   "source": [
    "np.exp(2)"
   ]
  },
  {
   "cell_type": "code",
   "execution_count": null,
   "metadata": {},
   "outputs": [],
   "source": []
  }
 ],
 "metadata": {
  "kernelspec": {
   "display_name": "Python 3",
   "language": "python",
   "name": "python3"
  },
  "language_info": {
   "codemirror_mode": {
    "name": "ipython",
    "version": 3
   },
   "file_extension": ".py",
   "mimetype": "text/x-python",
   "name": "python",
   "nbconvert_exporter": "python",
   "pygments_lexer": "ipython3",
   "version": "3.7.7"
  }
 },
 "nbformat": 4,
 "nbformat_minor": 4
}
