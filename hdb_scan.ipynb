{
 "cells": [
  {
   "cell_type": "code",
   "execution_count": 21,
   "metadata": {},
   "outputs": [],
   "source": [
    "import numpy as np\n",
    "from scipy import random,linalg\n",
    "from sklearn import datasets\n",
    "import matplotlib.pyplot as plt\n",
    "%matplotlib inline\n",
    "import hdbscan\n",
    "import pandas as pd\n",
    "import numpy as np\n",
    "import fastcluster\n",
    "from scipy.cluster import hierarchy\n",
    "from scipy.cluster.hierarchy import fcluster\n",
    "import matplotlib.pyplot as plt"
   ]
  },
  {
   "cell_type": "code",
   "execution_count": 20,
   "metadata": {},
   "outputs": [
    {
     "name": "stdout",
     "output_type": "stream",
     "text": [
      "Collecting fastcluster\n",
      "  Downloading fastcluster-1.1.26-cp37-cp37m-manylinux1_x86_64.whl (155 kB)\n",
      "\u001b[K     |████████████████████████████████| 155 kB 331 kB/s eta 0:00:01\n",
      "\u001b[?25hRequirement already satisfied: numpy>=1.9 in /home/siddhesh/anaconda3/lib/python3.7/site-packages (from fastcluster) (1.18.5)\n",
      "Installing collected packages: fastcluster\n",
      "Successfully installed fastcluster-1.1.26\n"
     ]
    }
   ],
   "source": [
    "#!pip install fastcluster"
   ]
  },
  {
   "cell_type": "code",
   "execution_count": 3,
   "metadata": {},
   "outputs": [],
   "source": [
    "\"\"\"\n",
    "A function that creates symmetric Matrix which is posritive semidefinite\n",
    "\"\"\"\n",
    "def sym_matrix(n,state=3):\n",
    "    matrixsize=n\n",
    "    A=random.rand(matrixsize,matrixsize)\n",
    "    B=np.dot(A,A.transpose())\n",
    "    for i in range(n):\n",
    "        B[i,i]=0\n",
    "    return B\n"
   ]
  },
  {
   "cell_type": "code",
   "execution_count": 4,
   "metadata": {},
   "outputs": [],
   "source": [
    "T=sym_matrix(20)"
   ]
  },
  {
   "cell_type": "code",
   "execution_count": 5,
   "metadata": {},
   "outputs": [],
   "source": [
    "clusterer=hdbscan.HDBSCAN(min_cluster_size=30).fit(T)"
   ]
  },
  {
   "cell_type": "code",
   "execution_count": 6,
   "metadata": {},
   "outputs": [
    {
     "data": {
      "text/plain": [
       "array([-1, -1, -1, -1, -1, -1, -1, -1, -1, -1, -1, -1, -1, -1, -1, -1, -1,\n",
       "       -1, -1, -1])"
      ]
     },
     "execution_count": 6,
     "metadata": {},
     "output_type": "execute_result"
    }
   ],
   "source": [
    "clusterer.labels_"
   ]
  },
  {
   "cell_type": "code",
   "execution_count": 7,
   "metadata": {},
   "outputs": [],
   "source": [
    "\"\"\"\n",
    "An experiment with min_cluster_size\n",
    "n: number of tests to be carried out\n",
    "Starting from min_cluster_size 1\n",
    "\"\"\"\n",
    "def min_clus(n,T):\n",
    "    for i in range(n):\n",
    "        clusterer=hdbscan.HDBSCAN(min_cluster_size=i+2).fit(T)\n",
    "        print(clusterer.labels_)\n",
    "        \n",
    "        \n",
    "    \n"
   ]
  },
  {
   "cell_type": "code",
   "execution_count": 8,
   "metadata": {},
   "outputs": [],
   "source": [
    "clusterer2 = hdbscan.HDBSCAN(cluster_selection_method='eom',min_cluster_size=5, min_samples=5,allow_single_cluster=True).fit(T)"
   ]
  },
  {
   "cell_type": "code",
   "execution_count": 9,
   "metadata": {},
   "outputs": [
    {
     "data": {
      "text/plain": [
       "array([ 0, -1,  0,  0, -1, -1, -1, -1,  0,  0, -1, -1, -1, -1, -1, -1, -1,\n",
       "       -1, -1,  0])"
      ]
     },
     "execution_count": 9,
     "metadata": {},
     "output_type": "execute_result"
    }
   ],
   "source": [
    "clusterer2.labels_"
   ]
  },
  {
   "cell_type": "markdown",
   "metadata": {},
   "source": [
    "## More Clustering techniques"
   ]
  },
  {
   "cell_type": "code",
   "execution_count": 13,
   "metadata": {},
   "outputs": [],
   "source": [
    "df2=pd.read_excel('corr.xlsx',sheet_name='Correlation')"
   ]
  },
  {
   "cell_type": "code",
   "execution_count": 24,
   "metadata": {},
   "outputs": [],
   "source": [
    "\"\"\"\n",
    "This is the correlation Matrix\n",
    "\"\"\"\n",
    "correl_mat=df2.to_numpy()"
   ]
  },
  {
   "cell_type": "code",
   "execution_count": 25,
   "metadata": {},
   "outputs": [],
   "source": [
    "## The distnace matrix\n",
    "dist = 1 - correl_mat"
   ]
  },
  {
   "cell_type": "code",
   "execution_count": 26,
   "metadata": {},
   "outputs": [
    {
     "data": {
      "image/png": "[encoded data removed]",
      "text/plain": [
       "<Figure size 576x576 with 1 Axes>"
      ]
     },
     "metadata": {
      "needs_background": "light"
     },
     "output_type": "display_data"
    }
   ],
   "source": [
    "dim = len(dist)\n",
    "tri_a, tri_b = np.triu_indices(dim, k=1)\n",
    "Z = fastcluster.linkage(dist[tri_a, tri_b], method='ward')\n",
    "permutation = hierarchy.leaves_list(\n",
    "    hierarchy.optimal_leaf_ordering(Z, dist[tri_a, tri_b]))\n",
    "ordered_corr = correl_mat[permutation, :][:, permutation]\n",
    "\n",
    "nb_clusters = 7\n",
    "clustering_inds = fcluster(Z, nb_clusters, criterion='maxclust')\n",
    "clusters = {i: [] for i in range(min(clustering_inds),\n",
    "                                 max(clustering_inds) + 1)}\n",
    "for i, v in enumerate(clustering_inds):\n",
    "    clusters[v].append(i)\n",
    "    \n",
    "plt.figure(figsize=(8, 8))\n",
    "plt.pcolormesh(correl_mat)\n",
    "for cluster_id, cluster in clusters.items():\n",
    "    xmin, xmax = min(cluster), max(cluster)\n",
    "    ymin, ymax = min(cluster), max(cluster)\n",
    "    \n",
    "    plt.axvline(x=xmin,\n",
    "                ymin=ymin / dim, ymax=(ymax + 1) / dim,\n",
    "                color='r')\n",
    "    plt.axvline(x=xmax + 1,\n",
    "                ymin=ymin / dim, ymax=(ymax + 1) / dim,\n",
    "                color='r')\n",
    "    plt.axhline(y=ymin,\n",
    "                xmin=xmin / dim, xmax=(xmax + 1) / dim,\n",
    "                color='r')\n",
    "    plt.axhline(y=ymax + 1,\n",
    "                xmin=xmin / dim, xmax=(xmax + 1) / dim,\n",
    "                color='r')\n",
    "plt.show()"
   ]
  },
  {
   "cell_type": "code",
   "execution_count": 27,
   "metadata": {},
   "outputs": [
    {
     "name": "stdout",
     "output_type": "stream",
     "text": [
      "0 : [12, 13, 14, 15, 16]\n",
      "1 : [17, 18, 19]\n",
      "2 : [9, 10, 11]\n",
      "3 : [0, 1]\n",
      "4 : [6, 7, 8]\n",
      "5 : [20, 21, 22, 23, 24, 25, 26, 27, 28]\n",
      "6 : [2, 3, 4, 5, 29, 30, 31, 32]\n"
     ]
    }
   ],
   "source": [
    "for id_cluster, cluster in clusters.items():\n",
    "    print(id_cluster - 1, ':', cluster)"
   ]
  },
  {
   "cell_type": "code",
   "execution_count": 28,
   "metadata": {},
   "outputs": [],
   "source": [
    "def seriation(Z, dim, cur_index):\n",
    "    if cur_index < dim:\n",
    "        return [cur_index]\n",
    "    else:\n",
    "        left = int(Z[cur_index - dim, 0])\n",
    "        right = int(Z[cur_index - dim, 1])\n",
    "        return seriation(Z, dim, left) + seriation(Z, dim, right)\n",
    "    \n",
    "def intersection(lst1, lst2): \n",
    "    return list(set(lst1) & set(lst2))"
   ]
  },
  {
   "cell_type": "code",
   "execution_count": 29,
   "metadata": {},
   "outputs": [],
   "source": [
    "def compute_allocation(covar, clusters):\n",
    "    nb_clusters = len(clusters)\n",
    "    assets_weights = np.array([1.] * len(covar))\n",
    "    clusters_weights = np.array([1.] * nb_clusters)\n",
    "    clusters_var = np.array([0.] * nb_clusters)\n",
    "    \n",
    "    for id_cluster, cluster in clusters.items():\n",
    "        cluster_covar = covar[cluster, :][:, cluster]\n",
    "        inv_diag = 1 / np.diag(cluster_covar)\n",
    "        assets_weights[cluster] = inv_diag / np.sum(inv_diag)\n",
    "        \n",
    "    for id_cluster, cluster in clusters.items():\n",
    "        weights = assets_weights[cluster]\n",
    "        clusters_var[id_cluster - 1] = np.dot(\n",
    "            weights, np.dot(covar[cluster, :][:, cluster], weights))\n",
    "        \n",
    "    for merge in range(nb_clusters - 1):\n",
    "        print('id merge:', merge)\n",
    "        left = int(Z[dim - 2 - merge, 0])\n",
    "        right = int(Z[dim - 2 - merge, 1])\n",
    "        left_cluster = seriation(Z, dim, left)\n",
    "        right_cluster = seriation(Z, dim, right)\n",
    "\n",
    "        print(len(left_cluster),\n",
    "              len(right_cluster))\n",
    "\n",
    "        ids_left_cluster = []\n",
    "        ids_right_cluster = []\n",
    "        for id_cluster, cluster in clusters.items():\n",
    "            if sorted(intersection(left_cluster, cluster)) == sorted(cluster):\n",
    "                ids_left_cluster.append(id_cluster)\n",
    "            if sorted(intersection(right_cluster, cluster)) == sorted(cluster):\n",
    "                ids_right_cluster.append(id_cluster)\n",
    "\n",
    "\n",
    "        ids_left_cluster = np.array(ids_left_cluster) - 1\n",
    "        ids_right_cluster = np.array(ids_right_cluster) - 1\n",
    "        print(ids_left_cluster)\n",
    "        print(ids_right_cluster)\n",
    "        print()\n",
    "\n",
    "        alpha = 0\n",
    "        left_cluster_var = np.sum(clusters_var[ids_left_cluster])\n",
    "        right_cluster_var = np.sum(clusters_var[ids_right_cluster])\n",
    "        alpha = left_cluster_var / (left_cluster_var + right_cluster_var)\n",
    "\n",
    "        clusters_weights[ids_left_cluster] = clusters_weights[\n",
    "            ids_left_cluster] * alpha\n",
    "        clusters_weights[ids_right_cluster] = clusters_weights[\n",
    "            ids_right_cluster] * (1 - alpha)\n",
    "\n",
    "    for id_cluster, cluster in clusters.items():\n",
    "        assets_weights[cluster] = assets_weights[cluster] * clusters_weights[\n",
    "            id_cluster - 1]\n",
    "        \n",
    "    return assets_weights"
   ]
  },
  {
   "cell_type": "code",
   "execution_count": 30,
   "metadata": {},
   "outputs": [
    {
     "name": "stdout",
     "output_type": "stream",
     "text": [
      "id merge: 0\n",
      "11 22\n",
      "[0 1 2]\n",
      "[3 4 5 6]\n",
      "\n",
      "id merge: 1\n",
      "2 20\n",
      "[3]\n",
      "[4 5 6]\n",
      "\n",
      "id merge: 2\n",
      "3 17\n",
      "[4]\n",
      "[5 6]\n",
      "\n",
      "id merge: 3\n",
      "5 6\n",
      "[0]\n",
      "[1 2]\n",
      "\n",
      "id merge: 4\n",
      "3 3\n",
      "[1]\n",
      "[2]\n",
      "\n",
      "id merge: 5\n",
      "9 8\n",
      "[5]\n",
      "[6]\n",
      "\n"
     ]
    }
   ],
   "source": [
    "weights = compute_allocation(correl_mat, clusters)"
   ]
  },
  {
   "cell_type": "code",
   "execution_count": 31,
   "metadata": {},
   "outputs": [
    {
     "data": {
      "image/png": "[encoded data removed]",
      "text/plain": [
       "<Figure size 576x576 with 1 Axes>"
      ]
     },
     "metadata": {
      "needs_background": "light"
     },
     "output_type": "display_data"
    },
    {
     "data": {
      "image/png": "[encoded data removed]",
      "text/plain": [
       "<Figure size 576x144 with 1 Axes>"
      ]
     },
     "metadata": {
      "needs_background": "light"
     },
     "output_type": "display_data"
    }
   ],
   "source": [
    "plt.figure(figsize=(8, 8))\n",
    "plt.pcolormesh(correl_mat)\n",
    "for cluster_id, cluster in clusters.items():\n",
    "    xmin, xmax = min(cluster), max(cluster)\n",
    "    ymin, ymax = min(cluster), max(cluster)\n",
    "    \n",
    "    plt.axvline(x=xmin,\n",
    "                ymin=ymin / dim, ymax=(ymax+1) / dim,\n",
    "                color='r')\n",
    "    plt.axvline(x=xmax+1,\n",
    "                ymin=ymin / dim, ymax=(ymax+1) / dim,\n",
    "                color='r')\n",
    "    plt.axhline(y=ymin,\n",
    "                xmin=xmin / dim, xmax=(xmax+1) / dim,\n",
    "                color='r')\n",
    "    plt.axhline(y=ymax+1,\n",
    "                xmin=xmin / dim, xmax=(xmax+1) / dim,\n",
    "                color='r')\n",
    "plt.show()\n",
    "plt.figure(figsize=(8, 2))\n",
    "plt.plot(weights)\n",
    "plt.xlim([0, 100])\n",
    "plt.show()"
   ]
  },
  {
   "cell_type": "code",
   "execution_count": null,
   "metadata": {},
   "outputs": [],
   "source": []
  }
 ],
 "metadata": {
  "kernelspec": {
   "display_name": "Python 3",
   "language": "python",
   "name": "python3"
  },
  "language_info": {
   "codemirror_mode": {
    "name": "ipython",
    "version": 3
   },
   "file_extension": ".py",
   "mimetype": "text/x-python",
   "name": "python",
   "nbconvert_exporter": "python",
   "pygments_lexer": "ipython3",
   "version": "3.7.7"
  }
 },
 "nbformat": 4,
 "nbformat_minor": 2
}
