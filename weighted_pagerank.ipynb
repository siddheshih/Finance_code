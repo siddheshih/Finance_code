{
 "cells": [
  {
   "cell_type": "code",
   "execution_count": 2,
   "metadata": {},
   "outputs": [],
   "source": [
    "import numpy as np\n",
    "from scipy.sparse import csc_matrix\n",
    "import random\n",
    "\n",
    "def column(matrix, i):\n",
    "    return [row[i] for row in matrix]\n"
   ]
  },
  {
   "cell_type": "code",
   "execution_count": 10,
   "metadata": {},
   "outputs": [],
   "source": [
    "def pageRank(G, s = 0.85, maxerr = .001):\n",
    "    \"\"\"\n",
    "    Computes the pagerank for each of the n states.\n",
    "    Used in webpage ranking and text summarization using unweighted\n",
    "    or weighted transitions respectively.\n",
    "    Args\n",
    "    ----------\n",
    "    G: matrix representing state transitions\n",
    "       Gij can be a boolean or non negative real number representing the\n",
    "       transition weight from state i to j.\n",
    "    Kwargs\n",
    "    ----------\n",
    "    s: probability of following a transition. 1-s probability of teleporting\n",
    "       to another state. Defaults to 0.85\n",
    "    maxerr: if the sum of pageranks between iterations is bellow this we will\n",
    "            have converged. Defaults to 0.001\n",
    "    \"\"\"\n",
    "    n = G.shape[0]\n",
    "\n",
    "    # transform G into markov matrix M\n",
    "    M = csc_matrix(G,dtype=np.float)\n",
    "    rsums = np.array(M.sum(1))[:,0]\n",
    "    ri, ci = M.nonzero()\n",
    "    M.data /= rsums[ri]\n",
    "\n",
    "    # bool array of sink states\n",
    "    sink = rsums==0\n",
    "\n",
    "    # Compute pagerank r until we converge\n",
    "    ro, r = np.zeros(n), np.ones(n)\n",
    "    while np.sum(np.abs(r-ro)) > maxerr:\n",
    "        ro = r.copy()\n",
    "        # calculate each pagerank at a time\n",
    "        for i in range(n):\n",
    "            # inlinks of state i\n",
    "            Ii = np.array(M[:,i].todense())[:,0]\n",
    "            # account for sink states\n",
    "            Si = sink / float(n)\n",
    "            # account for teleportation to state i\n",
    "            Ti = np.ones(n) / float(n)\n",
    "            # Weighted PageRank Equation\n",
    "            r[i] = ro.dot( Ii*s + Si*s + Ti*(1-s)*G[i]) \n",
    "\t    #print r[i]\n",
    "\t    #print i \n",
    "\n",
    "    # return normalized pagerank\n",
    "    return r/sum(r)"
   ]
  },
  {
   "cell_type": "code",
   "execution_count": 11,
   "metadata": {},
   "outputs": [
    {
     "name": "stdout",
     "output_type": "stream",
     "text": [
      "[1.99979908e-01 1.99979908e-01 1.99979908e-01 1.99979908e-01\n",
      " 1.99979908e-01 5.02299201e-05 5.02299201e-05]\n",
      "[[1 1 0 0 0 0 0]\n",
      " [1 1 0 0 0 0 0]\n",
      " [0 0 1 0 0 0 0]\n",
      " [0 0 0 1 0 0 0]\n",
      " [0 0 0 0 1 0 0]\n",
      " [0 0 0 0 0 0 0]\n",
      " [0 0 0 0 0 1 1]]\n"
     ]
    }
   ],
   "source": [
    "if __name__=='__main__':\n",
    "    # Example extracted from 'Introduction to Information Retrieval'\n",
    "\tG = np.array([[1,1,0,0,0,0,0],\n",
    "                  [1,1,0,0,0,0,0],\n",
    "                  [0,0,1,0,0,0,0],\n",
    "                  [0,0,0,1,0,0,0],\n",
    "                  [0,0,0,0,1,0,0],\n",
    "                  [0,0,0,0,0,0,0],\n",
    "                  [0,0,0,0,0,1,1]])\n",
    "\t\n",
    "\n",
    "\n",
    "print(pageRank(G,s = 1))\n",
    "print (G)"
   ]
  },
  {
   "cell_type": "code",
   "execution_count": null,
   "metadata": {},
   "outputs": [],
   "source": []
  }
 ],
 "metadata": {
  "kernelspec": {
   "display_name": "Python 3",
   "language": "python",
   "name": "python3"
  },
  "language_info": {
   "codemirror_mode": {
    "name": "ipython",
    "version": 3
   },
   "file_extension": ".py",
   "mimetype": "text/x-python",
   "name": "python",
   "nbconvert_exporter": "python",
   "pygments_lexer": "ipython3",
   "version": "3.7.3"
  }
 },
 "nbformat": 4,
 "nbformat_minor": 2
}
