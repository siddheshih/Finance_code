{
 "cells": [
  {
   "cell_type": "code",
   "execution_count": 166,
   "metadata": {},
   "outputs": [
    {
     "name": "stdout",
     "output_type": "stream",
     "text": [
      "Requirement already satisfied: kumaraswamy in /home/siddhesh/anaconda3/lib/python3.7/site-packages (0.1)\r\n"
     ]
    }
   ],
   "source": [
    "!pip install kumaraswamy"
   ]
  },
  {
   "cell_type": "code",
   "execution_count": 1,
   "metadata": {},
   "outputs": [],
   "source": [
    "from kumaraswamy import kumaraswamy\n",
    "import matplotlib.pyplot as plt\n",
    "import pandas as pd\n",
    "%matplotlib inline\n",
    "import numpy as np\n",
    "\n",
    "from sklearn.cluster import AgglomerativeClustering\n",
    "import scipy.cluster.hierarchy as sch\n",
    "\n"
   ]
  },
  {
   "cell_type": "markdown",
   "metadata": {},
   "source": [
    "## Experiments with Kumaraswamy Function"
   ]
  },
  {
   "cell_type": "code",
   "execution_count": 2,
   "metadata": {},
   "outputs": [],
   "source": [
    "d1 = kumaraswamy(a=0.1, b=0.7)"
   ]
  },
  {
   "cell_type": "code",
   "execution_count": 3,
   "metadata": {},
   "outputs": [
    {
     "data": {
      "text/plain": [
       "array(0.30210796)"
      ]
     },
     "execution_count": 3,
     "metadata": {},
     "output_type": "execute_result"
    }
   ],
   "source": [
    "d1.pdf(0.9)"
   ]
  },
  {
   "cell_type": "code",
   "execution_count": 4,
   "metadata": {},
   "outputs": [
    {
     "data": {
      "text/plain": [
       "array(0.7418337)"
      ]
     },
     "execution_count": 4,
     "metadata": {},
     "output_type": "execute_result"
    }
   ],
   "source": [
    "d1.cdf(0.21)"
   ]
  },
  {
   "cell_type": "code",
   "execution_count": 5,
   "metadata": {},
   "outputs": [
    {
     "data": {
      "text/plain": [
       "0.07907948744725794"
      ]
     },
     "execution_count": 5,
     "metadata": {},
     "output_type": "execute_result"
    }
   ],
   "source": [
    "d1.var"
   ]
  },
  {
   "cell_type": "code",
   "execution_count": 6,
   "metadata": {},
   "outputs": [
    {
     "data": {
      "text/plain": [
       "0.17121255852442666"
      ]
     },
     "execution_count": 6,
     "metadata": {},
     "output_type": "execute_result"
    }
   ],
   "source": [
    "d1.mean"
   ]
  },
  {
   "cell_type": "markdown",
   "metadata": {},
   "source": [
    "### CCTE"
   ]
  },
  {
   "cell_type": "code",
   "execution_count": 7,
   "metadata": {},
   "outputs": [],
   "source": [
    "from scipy.special import hyp2f1\n",
    "from scipy.special import betainc\n",
    "#The incomplte Beta function\n"
   ]
  },
  {
   "cell_type": "code",
   "execution_count": 8,
   "metadata": {},
   "outputs": [],
   "source": [
    "def num_1(alpha,t,a,b,theta):\n",
    "    v1=-(1/a)\n",
    "    v2=b\n",
    "    v3=1+b\n",
    "    v4=(1-alpha)**(1/b)\n",
    "##This is the first term in the numerator\n",
    "    p1=(t-1)*(theta*t-1)\n",
    "    p2=(1-alpha)*(hyp2f1(v1,v2,v3,v4))\n",
    "    return p1*p2 #The product of 2  terms is the first term\n",
    "    "
   ]
  },
  {
   "cell_type": "code",
   "execution_count": 9,
   "metadata": {},
   "outputs": [],
   "source": [
    "def num_2(alpha,t,a,b,theta):\n",
    "    #This gives the negative of the second term\n",
    "    a3=1+(1/a)\n",
    "    p=alpha**b\n",
    "    b3=2*b\n",
    "    p3=2*(theta)*t*(t-1)*b\n",
    "    p4=[betainc(a3,b,1)+betainc(a3,b3,1)-betainc(a3,b,p)-betainc(a3,b3,p)]\n",
    "    prod=p4[0]*p3\n",
    "    return prod\n"
   ]
  },
  {
   "cell_type": "code",
   "execution_count": 10,
   "metadata": {},
   "outputs": [],
   "source": [
    "#This defines the FGM Copula for kumaraswamy distribution\n",
    "# Some checks required\n",
    "def FGM_copula(alpha,t,a,b,theta,a1,b1):\n",
    "    d1 = kumaraswamy(a, b)\n",
    "    d2 = kumaraswamy(a1, b1)\n",
    "    s1 = d1.cdf(alpha)\n",
    "    s2 = d2.cdf(t)\n",
    "    copula=(s1)*(s2)+theta*(s1)*(s2)*(1-s1)*(1-s2)\n",
    "    return copula\n",
    "    \n",
    "    \n",
    "    \n",
    "def deno(alpha,t,a,b,theta,a1,b1):\n",
    "    t1=1-alpha-t\n",
    "    t2= FGM_copula(alpha,t,a,b,theta,a1,b1)\n",
    "    return t1+t2\n",
    "    "
   ]
  },
  {
   "cell_type": "code",
   "execution_count": 11,
   "metadata": {},
   "outputs": [
    {
     "data": {
      "text/plain": [
       "0.32232193347566945"
      ]
     },
     "execution_count": 11,
     "metadata": {},
     "output_type": "execute_result"
    }
   ],
   "source": [
    "FGM_copula(0.3,0.5,0.7,0.8,2,0.6,0.8)"
   ]
  },
  {
   "cell_type": "code",
   "execution_count": 12,
   "metadata": {},
   "outputs": [],
   "source": [
    "#Here a,b, alpha are for first distribution and a1,b1,t are for second distribution\n",
    "def ccte_fun(alpha,a,b,t,a1,b1,theta):\n",
    "    num=num_1(alpha,t,a,b,theta)+num_2(alpha,t,a,b,theta)\n",
    "    den=deno(alpha,t,a,b,theta,a1,b1)\n",
    "    return num/den\n",
    "    "
   ]
  },
  {
   "cell_type": "code",
   "execution_count": 13,
   "metadata": {},
   "outputs": [
    {
     "data": {
      "text/plain": [
       "-0.3503350944639705"
      ]
     },
     "execution_count": 13,
     "metadata": {},
     "output_type": "execute_result"
    }
   ],
   "source": [
    "ccte_fun(0.2,0.5,0.8,0.9,0.8,0.9,0.4)"
   ]
  },
  {
   "cell_type": "code",
   "execution_count": 14,
   "metadata": {},
   "outputs": [
    {
     "data": {
      "text/plain": [
       "-2.838277127208187"
      ]
     },
     "execution_count": 14,
     "metadata": {},
     "output_type": "execute_result"
    }
   ],
   "source": [
    "\n",
    "num_2(0.2,0.7,0.8,0.9,4)"
   ]
  },
  {
   "cell_type": "code",
   "execution_count": 15,
   "metadata": {},
   "outputs": [],
   "source": [
    "import numpy as np\n",
    "def matrix(n):\n",
    "    a=(n,n)\n",
    "    return np.zeros(a)"
   ]
  },
  {
   "cell_type": "code",
   "execution_count": 16,
   "metadata": {},
   "outputs": [],
   "source": [
    "c=matrix(3)"
   ]
  },
  {
   "cell_type": "code",
   "execution_count": 17,
   "metadata": {},
   "outputs": [],
   "source": [
    "import numpy as np"
   ]
  },
  {
   "cell_type": "code",
   "execution_count": 18,
   "metadata": {},
   "outputs": [
    {
     "data": {
      "text/plain": [
       "array([[0., 0., 0.],\n",
       "       [0., 0., 0.],\n",
       "       [0., 0., 0.]])"
      ]
     },
     "execution_count": 18,
     "metadata": {},
     "output_type": "execute_result"
    }
   ],
   "source": [
    "c"
   ]
  },
  {
   "cell_type": "code",
   "execution_count": 19,
   "metadata": {},
   "outputs": [],
   "source": [
    "c[1,2]=25"
   ]
  },
  {
   "cell_type": "code",
   "execution_count": 20,
   "metadata": {},
   "outputs": [
    {
     "data": {
      "text/plain": [
       "array([[ 0.,  0.,  0.],\n",
       "       [ 0.,  0., 25.],\n",
       "       [ 0.,  0.,  0.]])"
      ]
     },
     "execution_count": 20,
     "metadata": {},
     "output_type": "execute_result"
    }
   ],
   "source": [
    "c"
   ]
  },
  {
   "cell_type": "code",
   "execution_count": 21,
   "metadata": {},
   "outputs": [],
   "source": [
    "def update_matrix(mat,i,j,alpha,a,b,t,a1,b1,theta):\n",
    "    #input here whcih element we want to update(exact index)\n",
    "    mat[i-1,j-1]=ccte_fun(alpha,a,b,t,a1,b1,theta)\n",
    "    "
   ]
  },
  {
   "cell_type": "code",
   "execution_count": 22,
   "metadata": {},
   "outputs": [],
   "source": [
    "update_matrix(c,2,2,0.2,0.5,0.8,0.9,0.8,0.9,0.4)"
   ]
  },
  {
   "cell_type": "code",
   "execution_count": 23,
   "metadata": {},
   "outputs": [
    {
     "data": {
      "text/plain": [
       "array([[ 0.        ,  0.        ,  0.        ],\n",
       "       [ 0.        , -0.35033509, 25.        ],\n",
       "       [ 0.        ,  0.        ,  0.        ]])"
      ]
     },
     "execution_count": 23,
     "metadata": {},
     "output_type": "execute_result"
    }
   ],
   "source": [
    "c"
   ]
  },
  {
   "cell_type": "markdown",
   "metadata": {},
   "source": [
    "### The OOP part"
   ]
  },
  {
   "cell_type": "code",
   "execution_count": 24,
   "metadata": {},
   "outputs": [],
   "source": [
    "class ccte:\n",
    "    \"\"\"\n",
    "        A class used to get ccte of bivariate kumaraswamy distribution\n",
    "        \n",
    "        ...\n",
    "        \n",
    "        Attributes\n",
    "        ------\n",
    "        alpha: float\n",
    "            The percentile for the first kumaraswamy variable\n",
    "        a,b: float\n",
    "            The kumaraswamy distribution parameters for the first variable\n",
    "        t: float    \n",
    "            The percentile for the first kumaraswamy variable\n",
    "        a1,b1: float\n",
    "            The kumaraswamy distribution parameters for the second variable\n",
    "        ccte_value : float\n",
    "            Stores the value of CCTE\n",
    "        \n",
    "        \n",
    "        \n",
    "        Methods\n",
    "        ------\n",
    "        ccte_calc:float\n",
    "            Stores the ccte of first varible with repect to another \n",
    "            This assumes both the variables are kumaraswamy and copula used is FGM copula\n",
    "            Stores the value of CCTE in ccte_value\n",
    "    \"\"\"\n",
    "\n",
    "    def __init__(self, alpha,a,b,t,a1,b1):\n",
    "       \n",
    "        \"\"\"\n",
    "            Parameters\n",
    "            ------\n",
    "            alpha: float\n",
    "                The percentile for the first kumaraswamy variable\n",
    "            a,b: float\n",
    "                The kumaraswamy distribution parameters for the first variable\n",
    "            t: float    \n",
    "                The percentile for the first kumaraswamy variable\n",
    "            a1,b1: float\n",
    "                The kumaraswamy distribution parameters for the second variable\n",
    "        \"\"\"\n",
    "        self.alpha = alpha\n",
    "        self.a = a\n",
    "        self.b = b\n",
    "        self.t = t\n",
    "        self.a1 = a1\n",
    "        self.b1 = b1\n",
    "     \n",
    "             \n",
    "       \n",
    "            \n",
    "        \n",
    "       \n",
    "       \n",
    "        \n",
    "        \n",
    "    def ccte_calc(self,theta):\n",
    "        \n",
    "        \"\"\" Returns the ccte(conditional copula tail expectation) for first variable with repect to second\n",
    "         and the copula used is FGM copula\n",
    "         \n",
    "         \n",
    "        Parameters\n",
    "        ------\n",
    "        Theta: float\n",
    "            The dependence paramater of FGM copula \n",
    "        \"\"\"\n",
    "        \n",
    "        alpha=self.alpha\n",
    "        a=self.a\n",
    "        b=self.b\n",
    "        t=self.t\n",
    "        a1=self.a1\n",
    "        b1=self.b1\n",
    "        self.ccte_value=ccte_fun(alpha,a,b,t,a1,b1,theta)\n",
    "        return ccte_fun(alpha,a,b,t,a1,b1,theta)"
   ]
  },
  {
   "cell_type": "code",
   "execution_count": 25,
   "metadata": {},
   "outputs": [],
   "source": [
    "obj=ccte(0.2,0.5,0.8,0.9,0.8,0.3)"
   ]
  },
  {
   "cell_type": "code",
   "execution_count": 26,
   "metadata": {},
   "outputs": [
    {
     "data": {
      "text/plain": [
       "-0.21156365084895895"
      ]
     },
     "execution_count": 26,
     "metadata": {},
     "output_type": "execute_result"
    }
   ],
   "source": [
    "obj.ccte_calc(0.2)"
   ]
  },
  {
   "cell_type": "code",
   "execution_count": 128,
   "metadata": {},
   "outputs": [],
   "source": [
    "class dispersion_matrix:\n",
    "    \n",
    "    \"\"\"\n",
    "        A class used to store the dispersion matrix of a network\n",
    "        \n",
    "        ...\n",
    "        \n",
    "        Attributes\n",
    "        ------\n",
    "        n: int\n",
    "            stores the value of size of matrix\n",
    "        matrix: array(2D)\n",
    "            Stores the zeros matrix of size n*n\n",
    "        p: array(2D)\n",
    "            Stores the updated matrix\n",
    "            \n",
    "            \n",
    "        Methods\n",
    "        ------\n",
    "        matrix_def():\n",
    "            builds a n*n matrix with all entries as zeros\n",
    "        update_mat(i,j,alpha,a,b,t,a1,b1,theta)\n",
    "            updates the (i,j) eleemnt of the dispersion matrix with the CCTE of i-th element with repect to jth \n",
    "            element\n",
    "        num_1(alpha,t,a1,b1,theta):\n",
    "            Gives the first term of the numerator(to be used internally for getting the ccte)\n",
    "        num_2(self,alpha,t,a1,b1,theta):\n",
    "            Gives the second term of the numerator(to be used internally for getting the ccte)\n",
    "        FGM_copula(alpha,t,a1,b1,theta,a2,b2)\n",
    "            Gives the FGM copula of 2 kumaraswamy distributions given the percentile alpha(corresponding params\n",
    "            a1 and b1) and t(corresponding params a2 and b2)\n",
    "        deno(alpha,t,a1,b1,theta,a2,b2)\n",
    "            Gives the Denominator for ccte(to be used internally for getting the ccte)\n",
    "        ccte_fun(self,alpha,a1,b1,t,a1,b1,theta)\n",
    "            Calculates the ccte of kumaraswamy varible with parameters a1,b1 with respect to the one \n",
    "            with parameters a2,b2  \n",
    "        update_clus_mat(self,i,j,alpha,k1,t,k2,theta)\n",
    "            Gets and updates the distance matrix on which the clustering has to be done \n",
    "            The matrix is symmetric and is passed to hirarchical cluster maker\n",
    "       \"\"\"\n",
    "    \n",
    "    \n",
    "    def __init__(self,n):\n",
    "        \n",
    "        \"\"\"\n",
    "        Parameters\n",
    "        ------\n",
    "        n: Thse size of dispersion matrix\n",
    "        \"\"\"\n",
    "        self.n=n\n",
    "        \n",
    "    def num_1(self,alpha,t,k1,theta):\n",
    "        \"\"\"\n",
    "      The function to gives the first term of the numerator to calculate the ccte \n",
    "        Parameters\n",
    "        ------\n",
    "        alpha: float\n",
    "            The percentile for the first kumaraswamy variable\n",
    "        k1: Object\n",
    "            The kumaraswamy_scaled object which contains kumaraswamy distribution\n",
    "        t: float    \n",
    "            The percentile for the first kumaraswamy variable\n",
    "            \n",
    "        Returns\n",
    "        ------\n",
    "        The first term in the numerator to calculate the ccte\n",
    "        \"\"\"\n",
    "        v1=-(1/k1.a)\n",
    "        v2=k1.b\n",
    "        v3=1+k1.b\n",
    "        v4=(1-alpha)**(1/k1.b)\n",
    "    \n",
    "        p1=(t-1)*(theta*t-1)\n",
    "        p2=(1-alpha)*(hyp2f1(v1,v2,v3,v4))\n",
    "        p3=(k1.upper-k1.lower)*p1*p2\n",
    "        return p1*p2 #The product of 2  terms is the first term\n",
    "    \n",
    "    def num_2(self,alpha,t,k2,theta):\n",
    "        \"\"\"\n",
    "      The function to gives the neagtive of the second term of the numerator to calculate the ccte\n",
    "      \n",
    "        Parameters\n",
    "        \n",
    "        ------\n",
    "        alpha: float\n",
    "            The percentile for the first kumaraswamy variable\n",
    "        k1: Object\n",
    "            The kumaraswamy_scaled object which contains the first kumaraswamy distribution\n",
    "        k2: Object\n",
    "            The kumaraswamy_scaled object which contains the second kumaraswamy distribution\n",
    "        t: float    \n",
    "            The percentile for the second kumaraswamy variable\n",
    "            \n",
    "            \n",
    "        Returns\n",
    "        ------\n",
    "        \n",
    "        The neagtive of the second term in the numerator to calculate the ccte\n",
    "        \"\"\"\n",
    "        \n",
    "   \n",
    "        a3=1+(1/k2.a)\n",
    "        p=alpha**k2.b\n",
    "        b3=2*k2.b\n",
    "        p3=2*(theta)*t*(t-1)*k2.b\n",
    "        p4=[betainc(a3,k2.b,1)+betainc(a3,b3,1)-betainc(a3,k2.b,p)-betainc(a3,b3,p)]\n",
    "        prod=(k2.upper-k2.lower)*p4[0]*p3\n",
    "        return prod\n",
    "    \n",
    "    def num_3(self,alpha,t,k1,k2,theta):\n",
    "        \"\"\"\n",
    "      The function to gives the neagtive of the second term of the numerator to calculate the ccte\n",
    "      \n",
    "        Parameters\n",
    "        \n",
    "        ------\n",
    "        alpha: float\n",
    "            The percentile for the first kumaraswamy variable\n",
    "        k1: Object\n",
    "            The kumaraswamy_scaled object which contains the first kumaraswamy distribution\n",
    "        k2: Object\n",
    "            The kumaraswamy_scaled object which contains the second kumaraswamy distribution\n",
    "        t: float    \n",
    "            The percentile for the second kumaraswamy variable\n",
    "            \n",
    "            \n",
    "        Returns\n",
    "        ------\n",
    "        \n",
    "        The neagtive of the second term in the numerator to calculate the ccte\n",
    "        \"\"\"\n",
    "        \n",
    "   \n",
    "        m=1-alpha-t+alpha*t\n",
    "        n=theta*alpha*t*(1-alpha)*(1-t)\n",
    "        k=k1.lower*(m+n)\n",
    "        return k\n",
    "    \n",
    "    def FGM_copula(self,alpha,t,k1,theta,k2):\n",
    "        \"\"\"\n",
    "         \n",
    "        Gives the FGM copula of 2 kumaraswamy distributions given the percentile alpha(corresponding params\n",
    "        a1 and b1) and t(corresponding params a2 and b2)\n",
    "       \n",
    "        Parameters\n",
    "        \n",
    "        ------\n",
    "        alpha: float\n",
    "            The percentile for the first kumaraswamy variable\n",
    "        k1: Object\n",
    "            The kumaraswamy_scaled object which contains first kumaraswamy distribution\n",
    "        k2: Object\n",
    "            The kumaraswamy_scaled object which contains second kumaraswamy distribution    \n",
    "        t: float    \n",
    "            The percentile for the second kumaraswamy variable\n",
    "        Theta: float\n",
    "            The dependence paramter of the FGM copula\n",
    "            \n",
    "        Returns\n",
    "        ------\n",
    "        The FGM copula between two input kumaraswamy variables with given percentiles\n",
    "        \n",
    "        \n",
    "        \"\"\"\n",
    "        d1 = kumaraswamy(k1.a, k1.b)\n",
    "        d2 = kumaraswamy(k2.a, k2.b)\n",
    "        s1 = d1.cdf(alpha)\n",
    "        s2 = d2.cdf(t)\n",
    "        copula=(s1)*(s2)+theta*(s1)*(s2)*(1-s1)*(1-s2)\n",
    "        return copula\n",
    "    \n",
    "    def deno(self,alpha,t,k1,theta,k2):\n",
    "        \"\"\"\n",
    "        The function calculates the denominator that is used to calculate the ccte internally\n",
    "        \n",
    "        Parameters\n",
    "        \n",
    "        ------\n",
    "        alpha: float\n",
    "            The percentile for the first kumaraswamy variable\n",
    "        k1: Object\n",
    "            The kumaraswamy_scaled object which contains first kumaraswamy distribution\n",
    "        k2: Object\n",
    "            The kumaraswamy_scaled object which contains second kumaraswamy distribution \n",
    "        t: float    \n",
    "            The percentile for the second kumaraswamy variable\n",
    "        Theta: float\n",
    "            The dependence paramter of the FGM copula\n",
    "            \n",
    "            \n",
    "        Returns\n",
    "        ------\n",
    "        The denominator to calculate the ccte\n",
    "        \"\"\"\n",
    "        t1=1.-alpha-t\n",
    "        t2= self.FGM_copula(alpha,t,k1,theta,k2)\n",
    "        return t1+t2\n",
    "    \n",
    "    def ccte_fun(self,alpha,k1,t,k2,theta):\n",
    "        \"\"\"\n",
    "        Parameters\n",
    "        \n",
    "        ------\n",
    "        alpha: float\n",
    "            The percentile for the first kumaraswamy variable\n",
    "        k1: Object\n",
    "            The kumaraswamy_scaled object which contains first kumaraswamy distribution\n",
    "        k2: Object\n",
    "            The kumaraswamy_scaled object which contains second kumaraswamy distribution \n",
    "        t: float    \n",
    "            The percentile for the first kumaraswamy variable\n",
    "        Theta: float\n",
    "            The dependence paramter of the FGM copula\n",
    "            \n",
    "        Returns\n",
    "        \n",
    "        --------\n",
    "        \n",
    "        Calculates the ccte of kumaraswamy varible with parameters a1,b1 with respect to the one \n",
    "        with parameters a2,b2 \n",
    "        \"\"\"\n",
    "        num=self.num_1(alpha,t,k1,theta)+self.num_2(alpha,t,k1,theta)+self.num_3(alpha,t,k1,k2,theta)\n",
    "        den=self.deno(alpha,t,k1,theta,k2)\n",
    "        return num/den\n",
    "    \n",
    "        \n",
    "    def matrix_def(self):\n",
    "        \n",
    "        \"\"\"  builds a n*n matrix with all entries as zeros\n",
    "         \n",
    "         \n",
    "        Parameters\n",
    "        ------\n",
    "        None\n",
    "        \n",
    "        \n",
    "        Returns\n",
    "        -------\n",
    "        A n*n matrix with all zeroes\n",
    "        \n",
    "        \"\"\"\n",
    "        self.matrix=(self.n,self.n)\n",
    "        self.p=np.zeros(self.matrix)\n",
    "        return self.p\n",
    "    \n",
    "    def update_mat(self,i,j,alpha,k1,t,k2,theta):\n",
    "        \"\"\" Updates the (i,j) element of a matrix with the CCTE\n",
    "         Stores the updated matrix in p(attribute)\n",
    "        Parameters\n",
    "        ------\n",
    "        i,j: Index of the matrics\n",
    "        alpha: float\n",
    "            The percentile for the first kumaraswamy variable\n",
    "        a1,b1: float\n",
    "            The kumaraswamy distribution parameters for the first variable\n",
    "        t: float    \n",
    "            The percentile for the first kumaraswamy variable\n",
    "        a2,b2: float\n",
    "            The kumaraswamy distribution parameters for the second variable\n",
    "            \n",
    "        Returns\n",
    "        ------\n",
    "        An updated matrix p\n",
    "         \"\"\"\n",
    "        \n",
    "        self.p[i-1,j-1]=self.ccte_fun(alpha,k1,t,k2,theta)\n",
    "        self.p[j-1,i-1]=self.ccte_fun(t,k2,alpha,k1,theta)\n",
    "        return self.p\n",
    "    \n",
    "    def matrix_clus(self):\n",
    "        \n",
    "        \"\"\"  builds a n*n matrix with all entries as zeros\n",
    "        This stores \n",
    "         \n",
    "         \n",
    "        Parameters\n",
    "        ------\n",
    "        None\n",
    "        \n",
    "        \n",
    "        Returns\n",
    "        -------\n",
    "        A n*n matrix with all zeroes\n",
    "        \n",
    "        \"\"\"\n",
    "        self.matrix2=(self.n,self.n)\n",
    "        self.p2=np.zeros(self.matrix2)\n",
    "        return self.p2\n",
    "    \n",
    "    def update_clus_mat(self,i,j,alpha,k1,t,k2,theta):\n",
    "        \"\"\" Updates the (i,j) element of a matrix with the CCTE\n",
    "         Stores the updated matrix in p(attribute)\n",
    "        Parameters\n",
    "        ------\n",
    "        i,j: Index of the matrics\n",
    "        alpha: float\n",
    "            The percentile for the first kumaraswamy variable\n",
    "        a1,b1: float\n",
    "            The kumaraswamy distribution parameters for the first variable\n",
    "        t: float    \n",
    "            The percentile for the first kumaraswamy variable\n",
    "        a2,b2: float\n",
    "            The kumaraswamy distribution parameters for the second variable\n",
    "            \n",
    "        Returns\n",
    "        ------\n",
    "        An updated matrix p2\n",
    "        \"\"\"\n",
    "        t1=self.ccte_fun(alpha,k1,t,k2,theta)\n",
    "        t2=self.ccte_fun(t,k2,alpha,k1,theta)\n",
    "        self.p2[i-1,j-1]=np.abs(t1-t2)\n",
    "        self.p2[j-1,i-1]=np.abs(t1-t2)\n",
    "        return self.p2\n",
    "         "
   ]
  },
  {
   "cell_type": "code",
   "execution_count": 129,
   "metadata": {},
   "outputs": [],
   "source": [
    "# link=sch.linkage(obj2.p2,'ward')\n",
    "# def quasidiag(link):\n",
    "#     link=link.astype(int)\n",
    "#     sortix=pd.Series([link[-1,0],link[-1,1]])\n",
    "#     numitems=link[-1,3]\n",
    "#     while sortix.max()>=numitems:\n",
    "#         sortix.index=range(0,sortix.shape[0]*2,2)\n",
    "#         df0=sortix[sortix>=numitems]\n",
    "#         i=df0.index;j=df0.values-numitems\n",
    "#         sortix[i]=link[j,0]\n",
    "#         df0=pd.Series(link[j,1],index=i+1)\n",
    "#         sortix=sortix.append(df0)\n",
    "#         sortix=sortix.sort_index()\n",
    "#         sortix.index=range(sortix.shape[0])\n",
    "#     return sortix.tolist()\n"
   ]
  },
  {
   "cell_type": "code",
   "execution_count": 130,
   "metadata": {},
   "outputs": [],
   "source": [
    "# sortix=quasidiag(link)"
   ]
  },
  {
   "cell_type": "code",
   "execution_count": 131,
   "metadata": {},
   "outputs": [
    {
     "ename": "AttributeError",
     "evalue": "'dispersion_matrix' object has no attribute 'p2'",
     "output_type": "error",
     "traceback": [
      "\u001b[0;31m---------------------------------------------------------------------------\u001b[0m",
      "\u001b[0;31mAttributeError\u001b[0m                            Traceback (most recent call last)",
      "\u001b[0;32m<ipython-input-131-12233a2bfb77>\u001b[0m in \u001b[0;36m<module>\u001b[0;34m\u001b[0m\n\u001b[1;32m      1\u001b[0m \u001b[0;32mimport\u001b[0m \u001b[0mhdbscan\u001b[0m\u001b[0;34m\u001b[0m\u001b[0;34m\u001b[0m\u001b[0m\n\u001b[1;32m      2\u001b[0m \u001b[0;31m#!pip install hdbscan\u001b[0m\u001b[0;34m\u001b[0m\u001b[0;34m\u001b[0m\u001b[0;34m\u001b[0m\u001b[0m\n\u001b[0;32m----> 3\u001b[0;31m \u001b[0mobj2\u001b[0m\u001b[0;34m.\u001b[0m\u001b[0mupdate_clus_mat\u001b[0m\u001b[0;34m(\u001b[0m\u001b[0;36m1\u001b[0m\u001b[0;34m,\u001b[0m\u001b[0;36m2\u001b[0m\u001b[0;34m,\u001b[0m\u001b[0;36m0.4\u001b[0m\u001b[0;34m,\u001b[0m\u001b[0mobj3\u001b[0m\u001b[0;34m,\u001b[0m\u001b[0;36m0.9\u001b[0m\u001b[0;34m,\u001b[0m\u001b[0mobj4\u001b[0m\u001b[0;34m,\u001b[0m\u001b[0;34m-\u001b[0m\u001b[0;36m0.9\u001b[0m\u001b[0;34m)\u001b[0m\u001b[0;34m\u001b[0m\u001b[0;34m\u001b[0m\u001b[0m\n\u001b[0m\u001b[1;32m      4\u001b[0m \u001b[0mobj2\u001b[0m\u001b[0;34m.\u001b[0m\u001b[0mupdate_clus_mat\u001b[0m\u001b[0;34m(\u001b[0m\u001b[0;36m1\u001b[0m\u001b[0;34m,\u001b[0m\u001b[0;36m3\u001b[0m\u001b[0;34m,\u001b[0m\u001b[0;36m0.6\u001b[0m\u001b[0;34m,\u001b[0m\u001b[0mobj3\u001b[0m\u001b[0;34m,\u001b[0m\u001b[0;36m0.8\u001b[0m\u001b[0;34m,\u001b[0m\u001b[0mobj4\u001b[0m\u001b[0;34m,\u001b[0m\u001b[0;36m0.3\u001b[0m\u001b[0;34m)\u001b[0m\u001b[0;34m\u001b[0m\u001b[0;34m\u001b[0m\u001b[0m\n\u001b[1;32m      5\u001b[0m \u001b[0mobj2\u001b[0m\u001b[0;34m.\u001b[0m\u001b[0mupdate_clus_mat\u001b[0m\u001b[0;34m(\u001b[0m\u001b[0;36m2\u001b[0m\u001b[0;34m,\u001b[0m\u001b[0;36m3\u001b[0m\u001b[0;34m,\u001b[0m\u001b[0;36m0.9\u001b[0m\u001b[0;34m,\u001b[0m\u001b[0mobj3\u001b[0m\u001b[0;34m,\u001b[0m\u001b[0;36m0.2\u001b[0m\u001b[0;34m,\u001b[0m\u001b[0mobj4\u001b[0m\u001b[0;34m,\u001b[0m\u001b[0;36m0.5\u001b[0m\u001b[0;34m)\u001b[0m\u001b[0;34m\u001b[0m\u001b[0;34m\u001b[0m\u001b[0m\n",
      "\u001b[0;32m<ipython-input-58-eba9dddd3ef2>\u001b[0m in \u001b[0;36mupdate_clus_mat\u001b[0;34m(self, i, j, alpha, k1, t, k2, theta)\u001b[0m\n\u001b[1;32m    309\u001b[0m         \u001b[0mt1\u001b[0m\u001b[0;34m=\u001b[0m\u001b[0mself\u001b[0m\u001b[0;34m.\u001b[0m\u001b[0mccte_fun\u001b[0m\u001b[0;34m(\u001b[0m\u001b[0malpha\u001b[0m\u001b[0;34m,\u001b[0m\u001b[0mk1\u001b[0m\u001b[0;34m,\u001b[0m\u001b[0mt\u001b[0m\u001b[0;34m,\u001b[0m\u001b[0mk2\u001b[0m\u001b[0;34m,\u001b[0m\u001b[0mtheta\u001b[0m\u001b[0;34m)\u001b[0m\u001b[0;34m\u001b[0m\u001b[0;34m\u001b[0m\u001b[0m\n\u001b[1;32m    310\u001b[0m         \u001b[0mt2\u001b[0m\u001b[0;34m=\u001b[0m\u001b[0mself\u001b[0m\u001b[0;34m.\u001b[0m\u001b[0mccte_fun\u001b[0m\u001b[0;34m(\u001b[0m\u001b[0mt\u001b[0m\u001b[0;34m,\u001b[0m\u001b[0mk2\u001b[0m\u001b[0;34m,\u001b[0m\u001b[0malpha\u001b[0m\u001b[0;34m,\u001b[0m\u001b[0mk1\u001b[0m\u001b[0;34m,\u001b[0m\u001b[0mtheta\u001b[0m\u001b[0;34m)\u001b[0m\u001b[0;34m\u001b[0m\u001b[0;34m\u001b[0m\u001b[0m\n\u001b[0;32m--> 311\u001b[0;31m         \u001b[0mself\u001b[0m\u001b[0;34m.\u001b[0m\u001b[0mp2\u001b[0m\u001b[0;34m[\u001b[0m\u001b[0mi\u001b[0m\u001b[0;34m-\u001b[0m\u001b[0;36m1\u001b[0m\u001b[0;34m,\u001b[0m\u001b[0mj\u001b[0m\u001b[0;34m-\u001b[0m\u001b[0;36m1\u001b[0m\u001b[0;34m]\u001b[0m\u001b[0;34m=\u001b[0m\u001b[0mnp\u001b[0m\u001b[0;34m.\u001b[0m\u001b[0mabs\u001b[0m\u001b[0;34m(\u001b[0m\u001b[0mt1\u001b[0m\u001b[0;34m-\u001b[0m\u001b[0mt2\u001b[0m\u001b[0;34m)\u001b[0m\u001b[0;34m\u001b[0m\u001b[0;34m\u001b[0m\u001b[0m\n\u001b[0m\u001b[1;32m    312\u001b[0m         \u001b[0mself\u001b[0m\u001b[0;34m.\u001b[0m\u001b[0mp2\u001b[0m\u001b[0;34m[\u001b[0m\u001b[0mj\u001b[0m\u001b[0;34m-\u001b[0m\u001b[0;36m1\u001b[0m\u001b[0;34m,\u001b[0m\u001b[0mi\u001b[0m\u001b[0;34m-\u001b[0m\u001b[0;36m1\u001b[0m\u001b[0;34m]\u001b[0m\u001b[0;34m=\u001b[0m\u001b[0mnp\u001b[0m\u001b[0;34m.\u001b[0m\u001b[0mabs\u001b[0m\u001b[0;34m(\u001b[0m\u001b[0mt1\u001b[0m\u001b[0;34m-\u001b[0m\u001b[0mt2\u001b[0m\u001b[0;34m)\u001b[0m\u001b[0;34m\u001b[0m\u001b[0;34m\u001b[0m\u001b[0m\n\u001b[1;32m    313\u001b[0m         \u001b[0;32mreturn\u001b[0m \u001b[0mself\u001b[0m\u001b[0;34m.\u001b[0m\u001b[0mp2\u001b[0m\u001b[0;34m\u001b[0m\u001b[0;34m\u001b[0m\u001b[0m\n",
      "\u001b[0;31mAttributeError\u001b[0m: 'dispersion_matrix' object has no attribute 'p2'"
     ]
    }
   ],
   "source": [
    "import hdbscan\n",
    "#!pip install hdbscan\n",
    "obj2.update_clus_mat(1,2,0.4,obj3,0.9,obj4,-0.9)\n",
    "obj2.update_clus_mat(1,3,0.6,obj3,0.8,obj4,0.3)\n",
    "obj2.update_clus_mat(2,3,0.9,obj3,0.2,obj4,0.5)\n"
   ]
  },
  {
   "cell_type": "code",
   "execution_count": 119,
   "metadata": {},
   "outputs": [
    {
     "data": {
      "text/plain": [
       "HDBSCAN(algorithm='best', allow_single_cluster=True, alpha=1.0,\n",
       "        approx_min_span_tree=True, cluster_selection_epsilon=0.0,\n",
       "        cluster_selection_method='eom', core_dist_n_jobs=4,\n",
       "        gen_min_span_tree=False, leaf_size=1,\n",
       "        match_reference_implementation=False, memory=Memory(location=None),\n",
       "        metric='precomputed', min_cluster_size=2, min_samples=None, p=None,\n",
       "        prediction_data=False)"
      ]
     },
     "execution_count": 119,
     "metadata": {},
     "output_type": "execute_result"
    }
   ],
   "source": [
    "#obj2.update_clus_mat(1,2,0.4,obj3,0.9,obj4,-0.9)\n",
    "# obj2.update_clus_mat(1,3,0.6,obj3,0.8,obj4,0.3)\n",
    "# obj2.update_clus_mat(2,3,0.9,obj3,0.2,obj4,0.5)\n",
    "\"\"\"\n",
    "The function to do the soft clustering\n",
    "We pass in the object (matrix) on which we  want to do the soft clustering\n",
    "Output:\n",
    "An Object named clustere with following attributes:\n",
    "labels_: The labels of the cluster(Returned as an array)\n",
    "\n",
    "\"\"\"\n",
    "clusterer = hdbscan.HDBSCAN(metric='precomputed',allow_single_cluster=True, min_cluster_size=2,leaf_size=1,\n",
    "                             prediction_data=False,cluster_selection_method='eom')\n",
    "clusterer.fit(obj2.p2)"
   ]
  },
  {
   "cell_type": "code",
   "execution_count": 120,
   "metadata": {},
   "outputs": [
    {
     "data": {
      "text/plain": [
       "array([0, 0, 0])"
      ]
     },
     "execution_count": 120,
     "metadata": {},
     "output_type": "execute_result"
    }
   ],
   "source": [
    "clusterer.labels_\n"
   ]
  },
  {
   "cell_type": "code",
   "execution_count": 121,
   "metadata": {},
   "outputs": [
    {
     "data": {
      "text/plain": [
       "array([1., 1., 1.])"
      ]
     },
     "execution_count": 121,
     "metadata": {},
     "output_type": "execute_result"
    }
   ],
   "source": [
    "clusterer.probabilities_"
   ]
  },
  {
   "cell_type": "code",
   "execution_count": 123,
   "metadata": {},
   "outputs": [],
   "source": [
    "obj2=dispersion_matrix(5)"
   ]
  },
  {
   "cell_type": "code",
   "execution_count": 124,
   "metadata": {},
   "outputs": [
    {
     "data": {
      "text/plain": [
       "51.72030584359141"
      ]
     },
     "execution_count": 124,
     "metadata": {},
     "output_type": "execute_result"
    }
   ],
   "source": [
    "obj2.ccte_fun(0.4,obj3,0.9,obj4,-0.9)"
   ]
  },
  {
   "cell_type": "code",
   "execution_count": 125,
   "metadata": {},
   "outputs": [
    {
     "data": {
      "text/plain": [
       "array([[0., 0., 0., 0., 0.],\n",
       "       [0., 0., 0., 0., 0.],\n",
       "       [0., 0., 0., 0., 0.],\n",
       "       [0., 0., 0., 0., 0.],\n",
       "       [0., 0., 0., 0., 0.]])"
      ]
     },
     "execution_count": 125,
     "metadata": {},
     "output_type": "execute_result"
    }
   ],
   "source": [
    "obj2.matrix_def()"
   ]
  },
  {
   "cell_type": "code",
   "execution_count": 126,
   "metadata": {},
   "outputs": [
    {
     "data": {
      "text/plain": [
       "array([[   0.        , -293.13164601,    0.        ,    0.        ,\n",
       "           0.        ],\n",
       "       [-293.13164601,    0.        ,    0.        ,    0.        ,\n",
       "           0.        ],\n",
       "       [   0.        ,    0.        ,    0.        ,    0.        ,\n",
       "           0.        ],\n",
       "       [   0.        ,    0.        ,    0.        ,    0.        ,\n",
       "           0.        ],\n",
       "       [   0.        ,    0.        ,    0.        ,    0.        ,\n",
       "           0.        ]])"
      ]
     },
     "execution_count": 126,
     "metadata": {},
     "output_type": "execute_result"
    }
   ],
   "source": [
    "obj2.update_mat(1,2,0.9,obj3,0.9,obj3,0.9)"
   ]
  },
  {
   "cell_type": "code",
   "execution_count": null,
   "metadata": {},
   "outputs": [],
   "source": []
  },
  {
   "cell_type": "code",
   "execution_count": 30,
   "metadata": {},
   "outputs": [],
   "source": [
    "from kumaraswamy import kumaraswamy\n",
    "class kumaraswamy_scaled:\n",
    "    \"\"\"\n",
    "    The Class that stores scaled kumaraswamy distribution\n",
    "     ...\n",
    "        \n",
    "        Attributes\n",
    "        ------\n",
    "        a,b: Float \n",
    "            parameters of Kumaraswamy Distribution\n",
    "        upper, lower: Float\n",
    "            Stores the upper and lower limits of the disrtibution\n",
    "        z: Float\n",
    "            Stores scaled and shifted value of x(the input)\n",
    "        pdf: Float\n",
    "            Stores pdf of the distribution at some value x\n",
    "        cdf: Float\n",
    "            Stores cdf of the distribution at some value x\n",
    "        mean: Float\n",
    "             Stores mean of the distribution\n",
    "        var: Float\n",
    "              Stores variance of the distribution\n",
    "            \n",
    "        Methods\n",
    "        ------\n",
    "        get_z(x):\n",
    "            gets the z(normalized)(scaled and shifted) value for corrsponding x\n",
    "        get_pdf(x):\n",
    "            returns and stores pdf of a value x\n",
    "        get_cdf(x):\n",
    "            returns and stores cdf of a value x\n",
    "        get_mean():\n",
    "            returns mean of kumaraswamy distribution and stores it\n",
    "        get_var():\n",
    "            returns variance of kumaraswamy distribution and stores it\n",
    "    \"\"\"\n",
    "    def __init__(self,a,b,upper,lower):\n",
    "        \"\"\"\n",
    "        Parameters\n",
    "        ------\n",
    "        a,b: Float \n",
    "            parameters of Kumaraswamy Distribution\n",
    "        upper, lower: Float\n",
    "            Stores the upper and lower limits of the disrtibution\n",
    "            \n",
    "        \"\"\"\n",
    "        \n",
    "           \n",
    "        self.a=a\n",
    "        self.b=b\n",
    "        self.upper=upper\n",
    "        self.lower=lower\n",
    "        self.scale=upper-lower\n",
    "            \n",
    "    def get_z(self,x):\n",
    "        \"\"\"\n",
    "        A function that stores and returnsthe z(normalized)(scaled and shifted) value for corrsponding x\n",
    "        Parameters\n",
    "        ------\n",
    "        x:float\n",
    "            The value for which we want the pdf(or cdf or z)\n",
    "        \n",
    "        \n",
    "        Returns\n",
    "        -------\n",
    "        Z (scaled to (0,1) and shifted)value corresponding to a given x\n",
    "        \n",
    "        \n",
    "        \"\"\"\n",
    "        self.z=(x-self.lower)/(self.upper-self.lower)\n",
    "        return self.z\n",
    "            \n",
    "            \n",
    "  \n",
    "    \n",
    "    def get_pdf(self,x):\n",
    "        \"\"\"\n",
    "        A function that stores and returns the pdf  for corrsponding x of given kumaraswamy distribution\n",
    "        \n",
    "        Parameters\n",
    "        ------\n",
    "        x:float\n",
    "            The value for which we want the pdf\n",
    "        \n",
    "        \n",
    "        Returns\n",
    "        -------\n",
    "        Pdf  for corrsponding x of given kumaraswamy distribution\n",
    "        \n",
    "        \n",
    "        \"\"\"\n",
    "        y=self.get_z(x)\n",
    "        \n",
    "        d2=kumaraswamy(a=self.a,b=self.b)\n",
    "        m=d2.pdf(y)\n",
    "        self.pdf=np.asscalar(m)\n",
    "        return self.pdf\n",
    "    \n",
    "    def get_cdf(self,x):\n",
    "        \"\"\"\n",
    "        A function that stores and returns the cdf  for corrsponding x of given kumaraswamy distribution\n",
    "        \n",
    "        Parameters\n",
    "        ------\n",
    "        x:float\n",
    "            The value for which we want the cdf\n",
    "        \n",
    "        \n",
    "        Returns\n",
    "        -------\n",
    "        Cdf  for corrsponding x of given kumaraswamy distribution\n",
    "        \n",
    "        \"\"\"\n",
    "        y=self.get_z(x)\n",
    "        ## Is this a good practice\n",
    "       \n",
    "        d2=kumaraswamy(a=self.a,b=self.b)\n",
    "        z=d2.cdf(y)\n",
    "        self.cdf=np.asscalar(z)\n",
    "        return self.cdf\n",
    "    \n",
    "    def get_mean(self):\n",
    "        \"\"\"\n",
    "        A function that returns the mean of the kumaraswamy Distribution\n",
    "        \n",
    "        Parameters\n",
    "        ------\n",
    "        None\n",
    "        \n",
    "        \n",
    "        Returns\n",
    "        -------\n",
    "        Mean of the given Kumaraswmy distribution\n",
    "        \n",
    "        \"\"\"\n",
    "       \n",
    "        d2=kumaraswamy(a=self.a,b=self.b)\n",
    "        l=d2.mean\n",
    "        self.mean=l*(self.scale)+self.lower\n",
    "        return self.mean\n",
    "        \n",
    "    def get_var(self):\n",
    "        \"\"\"\n",
    "        A function that returns the variance of the kumaraswamy Distribution\n",
    "        \n",
    "        Parameters\n",
    "        ------\n",
    "        None\n",
    "        \n",
    "        \n",
    "        Returns\n",
    "        -------\n",
    "        variance of the given Kumaraswmy distribution\n",
    "        \n",
    "        \"\"\"\n",
    "        d2=kumaraswamy(self.a,self.b)\n",
    "        t=d2.var\n",
    "        self.var=(t)*(self.scale)*(self.scale)\n",
    "        return self.var\n",
    "        "
   ]
  },
  {
   "cell_type": "code",
   "execution_count": 31,
   "metadata": {},
   "outputs": [],
   "source": [
    "obj3=kumaraswamy_scaled(0.2,0.3,1000,2000)\n",
    "obj4=kumaraswamy_scaled(0.7,0.2,1000,2000)"
   ]
  },
  {
   "cell_type": "code",
   "execution_count": 32,
   "metadata": {},
   "outputs": [
    {
     "data": {
      "text/plain": [
       "1466.3558011326863"
      ]
     },
     "execution_count": 32,
     "metadata": {},
     "output_type": "execute_result"
    }
   ],
   "source": [
    "obj3.get_mean()"
   ]
  },
  {
   "cell_type": "code",
   "execution_count": 73,
   "metadata": {},
   "outputs": [
    {
     "name": "stdout",
     "output_type": "stream",
     "text": [
      "[2 1 0]\n"
     ]
    },
    {
     "name": "stderr",
     "output_type": "stream",
     "text": [
      "/home/siddhesh/anaconda3/lib/python3.7/site-packages/scipy/cluster/hierarchy.py:830: ClusterWarning: scipy.cluster: The symmetric non-negative hollow observation matrix looks suspiciously like an uncondensed distance matrix\n",
      "  return linkage(y, method='ward', metric='euclidean')\n"
     ]
    },
    {
     "data": {
      "text/plain": [
       "<matplotlib.collections.PathCollection at 0x7f2899608860>"
      ]
     },
     "execution_count": 73,
     "metadata": {},
     "output_type": "execute_result"
    },
    {
     "data": {
      "image/png": "[encoded data removed]",
      "text/plain": [
       "<Figure size 432x288 with 1 Axes>"
      ]
     },
     "metadata": {
      "needs_background": "light"
     },
     "output_type": "display_data"
    }
   ],
   "source": [
    "## Experiment That didn't work out\n",
    "obj2.matrix_clus()\n",
    "\n",
    "cluster = AgglomerativeClustering(n_clusters=3, affinity='euclidean', linkage='ward')\n",
    "cluster.fit_predict(obj2.p2)\n",
    "\n",
    "\n",
    "\n",
    "print(cluster.labels_)\n",
    "\n",
    "\n",
    "plt.scatter(obj2.p2[:,0],obj2.p2[:,1], c=cluster.labels_, cmap='rainbow')"
   ]
  },
  {
   "cell_type": "code",
   "execution_count": null,
   "metadata": {},
   "outputs": [],
   "source": []
  },
  {
   "cell_type": "code",
   "execution_count": null,
   "metadata": {},
   "outputs": [],
   "source": []
  }
 ],
 "metadata": {
  "kernelspec": {
   "display_name": "Python 3",
   "language": "python",
   "name": "python3"
  },
  "language_info": {
   "codemirror_mode": {
    "name": "ipython",
    "version": 3
   },
   "file_extension": ".py",
   "mimetype": "text/x-python",
   "name": "python",
   "nbconvert_exporter": "python",
   "pygments_lexer": "ipython3",
   "version": "3.7.3"
  }
 },
 "nbformat": 4,
 "nbformat_minor": 2
}
