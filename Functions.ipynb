{
 "cells": [
  {
   "cell_type": "code",
   "execution_count": 47,
   "metadata": {},
   "outputs": [
    {
     "name": "stdout",
     "output_type": "stream",
     "text": [
      "Requirement already satisfied: kumaraswamy in /home/siddhesh/anaconda3/lib/python3.7/site-packages (0.1)\r\n"
     ]
    }
   ],
   "source": [
    "!pip install kumaraswamy"
   ]
  },
  {
   "cell_type": "code",
   "execution_count": 48,
   "metadata": {},
   "outputs": [],
   "source": [
    "from kumaraswamy import kumaraswamy"
   ]
  },
  {
   "cell_type": "markdown",
   "metadata": {},
   "source": [
    "## Experiments with Kumaraswamy Function"
   ]
  },
  {
   "cell_type": "code",
   "execution_count": 49,
   "metadata": {},
   "outputs": [],
   "source": [
    "d1 = kumaraswamy(a=0.1, b=0.7)"
   ]
  },
  {
   "cell_type": "code",
   "execution_count": 50,
   "metadata": {},
   "outputs": [
    {
     "data": {
      "text/plain": [
       "array(0.30210796)"
      ]
     },
     "execution_count": 50,
     "metadata": {},
     "output_type": "execute_result"
    }
   ],
   "source": [
    "d1.pdf(0.9)"
   ]
  },
  {
   "cell_type": "code",
   "execution_count": 51,
   "metadata": {},
   "outputs": [
    {
     "data": {
      "text/plain": [
       "array(0.7418337)"
      ]
     },
     "execution_count": 51,
     "metadata": {},
     "output_type": "execute_result"
    }
   ],
   "source": [
    "d1.cdf(0.21)"
   ]
  },
  {
   "cell_type": "code",
   "execution_count": 52,
   "metadata": {},
   "outputs": [
    {
     "data": {
      "text/plain": [
       "0.07907948744725794"
      ]
     },
     "execution_count": 52,
     "metadata": {},
     "output_type": "execute_result"
    }
   ],
   "source": [
    "d1.var"
   ]
  },
  {
   "cell_type": "code",
   "execution_count": 53,
   "metadata": {},
   "outputs": [
    {
     "data": {
      "text/plain": [
       "0.17121255852442666"
      ]
     },
     "execution_count": 53,
     "metadata": {},
     "output_type": "execute_result"
    }
   ],
   "source": [
    "d1.mean"
   ]
  },
  {
   "cell_type": "markdown",
   "metadata": {},
   "source": [
    "### CCTE"
   ]
  },
  {
   "cell_type": "code",
   "execution_count": 54,
   "metadata": {},
   "outputs": [],
   "source": [
    "from scipy.special import hyp2f1\n",
    "from scipy.special import betainc\n",
    "#The incomplte Beta function\n"
   ]
  },
  {
   "cell_type": "code",
   "execution_count": 55,
   "metadata": {},
   "outputs": [],
   "source": [
    "def num_1(alpha,t,a,b,theta):\n",
    "    v1=-(1/a)\n",
    "    v2=b\n",
    "    v3=1+b\n",
    "    v4=(1-alpha)**(1/b)\n",
    "##This is the first term in the numerator\n",
    "    p1=(t-1)*(theta*t-1)\n",
    "    p2=(1-alpha)*(hyp2f1(v1,v2,v3,v4))\n",
    "    return p1*p2 #The product of 2  terms is the first term\n",
    "    "
   ]
  },
  {
   "cell_type": "code",
   "execution_count": 56,
   "metadata": {},
   "outputs": [],
   "source": [
    "def num_2(alpha,t,a,b,theta):\n",
    "    #This gives the negative of the second term\n",
    "    a3=1+(1/a)\n",
    "    p=alpha**b\n",
    "    b3=2*b\n",
    "    p3=2*(theta)*t*(t-1)*b\n",
    "    p4=[betainc(a3,b,1)+betainc(a3,b3,1)-betainc(a3,b,p)-betainc(a3,b3,p)]\n",
    "    prod=p4[0]*p3\n",
    "    return prod\n"
   ]
  },
  {
   "cell_type": "code",
   "execution_count": 57,
   "metadata": {},
   "outputs": [],
   "source": [
    "#This defines the FGM Copula for kumaraswamy distribution\n",
    "# Some checks required\n",
    "def FGM_copula(alpha,t,a,b,theta,a1,b1):\n",
    "    d1 = kumaraswamy(a, b)\n",
    "    d2 = kumaraswamy(a1, b1)\n",
    "    s1 = d1.cdf(alpha)\n",
    "    s2 = d2.cdf(t)\n",
    "    copula=(s1)*(s2)+theta*(s1)*(s2)*(1-s1)*(1-s2)\n",
    "    return copula\n",
    "    \n",
    "    \n",
    "    \n",
    "def deno(alpha,t,a,b,theta,a1,b1):\n",
    "    t1=1-alpha-t\n",
    "    t2= FGM_copula(alpha,t,a,b,theta,a1,b1)\n",
    "    return t1+t2\n",
    "    "
   ]
  },
  {
   "cell_type": "code",
   "execution_count": 58,
   "metadata": {},
   "outputs": [
    {
     "data": {
      "text/plain": [
       "0.32232193347566945"
      ]
     },
     "execution_count": 58,
     "metadata": {},
     "output_type": "execute_result"
    }
   ],
   "source": [
    "FGM_copula(0.3,0.5,0.7,0.8,2,0.6,0.8)"
   ]
  },
  {
   "cell_type": "code",
   "execution_count": 59,
   "metadata": {},
   "outputs": [],
   "source": [
    "#Here a,b, alpha are for first distribution and a1,b1,t are for second distribution\n",
    "def ccte_fun(alpha,a,b,t,a1,b1,theta):\n",
    "    num=num_1(alpha,t,a,b,theta)+num_2(alpha,t,a,b,theta)\n",
    "    den=deno(alpha,t,a,b,theta,a1,b1)\n",
    "    return num/den\n",
    "    "
   ]
  },
  {
   "cell_type": "code",
   "execution_count": 60,
   "metadata": {},
   "outputs": [
    {
     "data": {
      "text/plain": [
       "-0.3503350944639705"
      ]
     },
     "execution_count": 60,
     "metadata": {},
     "output_type": "execute_result"
    }
   ],
   "source": [
    "ccte_fun(0.2,0.5,0.8,0.9,0.8,0.9,0.4)"
   ]
  },
  {
   "cell_type": "code",
   "execution_count": 61,
   "metadata": {},
   "outputs": [
    {
     "data": {
      "text/plain": [
       "-2.838277127208187"
      ]
     },
     "execution_count": 61,
     "metadata": {},
     "output_type": "execute_result"
    }
   ],
   "source": [
    "\n",
    "num_2(0.2,0.7,0.8,0.9,4)"
   ]
  },
  {
   "cell_type": "code",
   "execution_count": 62,
   "metadata": {},
   "outputs": [],
   "source": [
    "import numpy as np\n",
    "def matrix(n):\n",
    "    a=(n,n)\n",
    "    return np.zeros(a)"
   ]
  },
  {
   "cell_type": "code",
   "execution_count": 63,
   "metadata": {},
   "outputs": [],
   "source": [
    "c=matrix(3)"
   ]
  },
  {
   "cell_type": "code",
   "execution_count": 136,
   "metadata": {},
   "outputs": [
    {
     "data": {
      "text/plain": [
       "array([[ 0.        ,  0.        ,  0.        ],\n",
       "       [ 0.        , -0.35033509, 25.        ],\n",
       "       [ 0.        ,  0.        ,  0.        ]])"
      ]
     },
     "execution_count": 136,
     "metadata": {},
     "output_type": "execute_result"
    }
   ],
   "source": [
    "c"
   ]
  },
  {
   "cell_type": "code",
   "execution_count": 64,
   "metadata": {},
   "outputs": [],
   "source": [
    "c[1,2]=25"
   ]
  },
  {
   "cell_type": "code",
   "execution_count": 65,
   "metadata": {},
   "outputs": [
    {
     "data": {
      "text/plain": [
       "array([[ 0.,  0.,  0.],\n",
       "       [ 0.,  0., 25.],\n",
       "       [ 0.,  0.,  0.]])"
      ]
     },
     "execution_count": 65,
     "metadata": {},
     "output_type": "execute_result"
    }
   ],
   "source": [
    "c"
   ]
  },
  {
   "cell_type": "code",
   "execution_count": 69,
   "metadata": {},
   "outputs": [],
   "source": [
    "def update_matrix(mat,i,j,alpha,a,b,t,a1,b1,theta):\n",
    "    #input here whcih element we want to update(exact index)\n",
    "    mat[i-1,j-1]=ccte_fun(alpha,a,b,t,a1,b1,theta)\n",
    "    "
   ]
  },
  {
   "cell_type": "code",
   "execution_count": 70,
   "metadata": {},
   "outputs": [],
   "source": [
    "update_matrix(c,2,2,0.2,0.5,0.8,0.9,0.8,0.9,0.4)"
   ]
  },
  {
   "cell_type": "code",
   "execution_count": 71,
   "metadata": {},
   "outputs": [
    {
     "data": {
      "text/plain": [
       "array([[ 0.        ,  0.        ,  0.        ],\n",
       "       [ 0.        , -0.35033509, 25.        ],\n",
       "       [ 0.        ,  0.        ,  0.        ]])"
      ]
     },
     "execution_count": 71,
     "metadata": {},
     "output_type": "execute_result"
    }
   ],
   "source": [
    "c"
   ]
  },
  {
   "cell_type": "markdown",
   "metadata": {},
   "source": [
    "### The OOP part"
   ]
  },
  {
   "cell_type": "code",
   "execution_count": 75,
   "metadata": {},
   "outputs": [],
   "source": [
    "class ccte:\n",
    "    def __init__(self, alpha,a,b,t,a1,b1):\n",
    "        ## here the a,b represent the first distribution and a1 and b1 correspond to second distribution\n",
    "        ## alpha is bound for first distribution and t is bound for second distribution\n",
    "        self.alpha = alpha\n",
    "        self.a = a\n",
    "        self.b = b\n",
    "        self.t = t\n",
    "        self.a1 = a1\n",
    "        self.b1 = b1\n",
    "        \n",
    "        \n",
    "    def ccte_calc(self,theta):\n",
    "        alpha=self.alpha\n",
    "        a=self.a\n",
    "        b=self.b\n",
    "        t=self.t\n",
    "        a1=self.a1\n",
    "        b1=self.b1\n",
    "        \n",
    "        return ccte_fun(alpha,a,b,t,a1,b1,theta)"
   ]
  },
  {
   "cell_type": "code",
   "execution_count": 76,
   "metadata": {},
   "outputs": [],
   "source": [
    "obj=ccte(0.2,0.5,0.8,0.9,0.8,0.3)"
   ]
  },
  {
   "cell_type": "code",
   "execution_count": 77,
   "metadata": {},
   "outputs": [
    {
     "data": {
      "text/plain": [
       "-0.21156365084895895"
      ]
     },
     "execution_count": 77,
     "metadata": {},
     "output_type": "execute_result"
    }
   ],
   "source": [
    "obj.ccte_calc(0.2)"
   ]
  },
  {
   "cell_type": "code",
   "execution_count": 153,
   "metadata": {},
   "outputs": [],
   "source": [
    "class dispersion_matrix:\n",
    "    \n",
    "    def __init__(self,n):\n",
    "        self.n=n\n",
    "        #self.matrix=(n,n)\n",
    "        #np.zeros(self.matrix)\n",
    "        \n",
    "    def matrix_def(self):\n",
    "        self.matrix=(self.n,self.n)\n",
    "        self.p=np.zeros(self.matrix)\n",
    "        return self.p\n",
    "    \n",
    "    def update_mat(self,i,j,alpha,a,b,t,a1,b1,theta):\n",
    "        self.p[i-1,j-1]=ccte_fun(alpha,a,b,t,a1,b1,theta)\n",
    "        return self.p\n"
   ]
  },
  {
   "cell_type": "code",
   "execution_count": 154,
   "metadata": {},
   "outputs": [],
   "source": [
    "obj2=dispersion_matrix(3)"
   ]
  },
  {
   "cell_type": "code",
   "execution_count": 155,
   "metadata": {},
   "outputs": [
    {
     "data": {
      "text/plain": [
       "array([[0., 0., 0.],\n",
       "       [0., 0., 0.],\n",
       "       [0., 0., 0.]])"
      ]
     },
     "execution_count": 155,
     "metadata": {},
     "output_type": "execute_result"
    }
   ],
   "source": [
    "obj2.matrix_def()"
   ]
  },
  {
   "cell_type": "code",
   "execution_count": 156,
   "metadata": {},
   "outputs": [
    {
     "data": {
      "text/plain": [
       "array([[ 0.        ,  0.        ,  0.        ],\n",
       "       [ 0.        , -0.35033509,  0.        ],\n",
       "       [ 0.        ,  0.        ,  0.        ]])"
      ]
     },
     "execution_count": 156,
     "metadata": {},
     "output_type": "execute_result"
    }
   ],
   "source": [
    "obj2.update_mat(2,2,0.2,0.5,0.8,0.9,0.8,0.9,0.4)"
   ]
  },
  {
   "cell_type": "code",
   "execution_count": null,
   "metadata": {},
   "outputs": [],
   "source": []
  }
 ],
 "metadata": {
  "kernelspec": {
   "display_name": "Python 3",
   "language": "python",
   "name": "python3"
  },
  "language_info": {
   "codemirror_mode": {
    "name": "ipython",
    "version": 3
   },
   "file_extension": ".py",
   "mimetype": "text/x-python",
   "name": "python",
   "nbconvert_exporter": "python",
   "pygments_lexer": "ipython3",
   "version": "3.7.3"
  }
 },
 "nbformat": 4,
 "nbformat_minor": 2
}
